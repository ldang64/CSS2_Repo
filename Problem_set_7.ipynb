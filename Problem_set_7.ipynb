{
  "nbformat": 4,
  "nbformat_minor": 0,
  "metadata": {
    "colab": {
      "name": "Dang_Lisa_problem_set_7.ipynb",
      "provenance": [],
      "collapsed_sections": []
    },
    "kernelspec": {
      "name": "python3",
      "display_name": "Python 3"
    },
    "language_info": {
      "name": "python"
    }
  },
  "cells": [
    {
      "cell_type": "markdown",
      "metadata": {
        "id": "CF2WKCd94KbQ"
      },
      "source": [
        "Attach the CSV file to CANVAS\n",
        "Import the CSV file or use read_html to extract your data\n",
        "Show the first 5 and last 5 rows of the dataset\n",
        "Visualize your dataset with at least 3 visualizations\n",
        "A histogram for the features you are interested in\n",
        "A scatter plot for any relationships you are interested in (or boxplot if you plan to look at categorical variables)\n",
        "Start working on your feature engineering\n",
        "Show whether or not there are missing data\n",
        "Show whether or not there are duplicates\n",
        "Show whether or not there are outliers\n",
        "List the variables you will be dummy coding\n",
        "Write a description in a text cell with what you plan to do next. Make sure you address 1) how you will handle feature engineering, 2) what kind of analysis you want to do\n",
        " \n",
        "\n",
        "You are welcome to submit more progress (e.g., more visualizations, feature engineering, or your analyses), but we will not grade/count anything past the feature engineering section. "
      ]
    },
    {
      "cell_type": "markdown",
      "metadata": {
        "id": "igy9x-ic4YKe"
      },
      "source": [
        "## Our libraries that we are importing:"
      ]
    },
    {
      "cell_type": "code",
      "metadata": {
        "id": "j60PP8V-8yvq"
      },
      "source": [
        "# Imported libraries used for the dataset\n",
        "import numpy as np\n",
        "import pandas as pd\n",
        "import seaborn as sns\n",
        "import matplotlib.pyplot as plt\n",
        "import csv\n",
        "import io\n",
        "\n",
        "from sklearn.model_selection import train_test_split\n",
        "from sklearn.linear_model import LogisticRegression\n",
        "from sklearn.ensemble import RandomForestClassifier\n",
        "from sklearn.ensemble import GradientBoostingClassifier\n",
        "from sklearn import metrics\n",
        "from scipy import stats"
      ],
      "execution_count": 1,
      "outputs": []
    },
    {
      "cell_type": "markdown",
      "metadata": {
        "id": "X4OrqY0Q4pPE"
      },
      "source": [
        "## Loading the CSV data:"
      ]
    },
    {
      "cell_type": "code",
      "metadata": {
        "colab": {
          "base_uri": "https://localhost:8080/"
        },
        "id": "xngiVWwh4vgb",
        "outputId": "b22d9eb6-9f18-4219-fa30-524256254651"
      },
      "source": [
        "# Importing and loading the CSV file data\n",
        "df = pd.read_csv(\"CallofDutyModernWarfare.csv\")\n",
        "\n",
        "df.shape"
      ],
      "execution_count": 2,
      "outputs": [
        {
          "output_type": "execute_result",
          "data": {
            "text/plain": [
              "(1558, 17)"
            ]
          },
          "metadata": {
            "tags": []
          },
          "execution_count": 2
        }
      ]
    },
    {
      "cell_type": "code",
      "metadata": {
        "colab": {
          "base_uri": "https://localhost:8080/",
          "height": 239
        },
        "id": "DqCcfbHK9fhq",
        "outputId": "cfe231cc-db2e-42d2-ed06-0731d80ffc4a"
      },
      "source": [
        "# Showing the first 5 rows of the dataset\n",
        "df.head()"
      ],
      "execution_count": 3,
      "outputs": [
        {
          "output_type": "execute_result",
          "data": {
            "text/html": [
              "<div>\n",
              "<style scoped>\n",
              "    .dataframe tbody tr th:only-of-type {\n",
              "        vertical-align: middle;\n",
              "    }\n",
              "\n",
              "    .dataframe tbody tr th {\n",
              "        vertical-align: top;\n",
              "    }\n",
              "\n",
              "    .dataframe thead th {\n",
              "        text-align: right;\n",
              "    }\n",
              "</style>\n",
              "<table border=\"1\" class=\"dataframe\">\n",
              "  <thead>\n",
              "    <tr style=\"text-align: right;\">\n",
              "      <th></th>\n",
              "      <th>name</th>\n",
              "      <th>wins</th>\n",
              "      <th>kills</th>\n",
              "      <th>kdRatio</th>\n",
              "      <th>killstreak</th>\n",
              "      <th>level</th>\n",
              "      <th>losses</th>\n",
              "      <th>hits</th>\n",
              "      <th>timePlayed</th>\n",
              "      <th>headshots</th>\n",
              "      <th>averageTime</th>\n",
              "      <th>gamesPlayed</th>\n",
              "      <th>assists</th>\n",
              "      <th>misses</th>\n",
              "      <th>scorePerMinute</th>\n",
              "      <th>shots</th>\n",
              "      <th>deaths</th>\n",
              "    </tr>\n",
              "  </thead>\n",
              "  <tbody>\n",
              "    <tr>\n",
              "      <th>0</th>\n",
              "      <td>RggRt45#4697369</td>\n",
              "      <td>0</td>\n",
              "      <td>0</td>\n",
              "      <td>0.0</td>\n",
              "      <td>0</td>\n",
              "      <td>1</td>\n",
              "      <td>0</td>\n",
              "      <td>0</td>\n",
              "      <td>0</td>\n",
              "      <td>0</td>\n",
              "      <td>0.0</td>\n",
              "      <td>0</td>\n",
              "      <td>0</td>\n",
              "      <td>0</td>\n",
              "      <td>0.0</td>\n",
              "      <td>0</td>\n",
              "      <td>0</td>\n",
              "    </tr>\n",
              "    <tr>\n",
              "      <th>1</th>\n",
              "      <td>BOBOQQ3#7928912</td>\n",
              "      <td>0</td>\n",
              "      <td>0</td>\n",
              "      <td>0.0</td>\n",
              "      <td>0</td>\n",
              "      <td>1</td>\n",
              "      <td>0</td>\n",
              "      <td>0</td>\n",
              "      <td>0</td>\n",
              "      <td>0</td>\n",
              "      <td>0.0</td>\n",
              "      <td>0</td>\n",
              "      <td>0</td>\n",
              "      <td>0</td>\n",
              "      <td>0.0</td>\n",
              "      <td>0</td>\n",
              "      <td>0</td>\n",
              "    </tr>\n",
              "    <tr>\n",
              "      <th>2</th>\n",
              "      <td>TawheedAhmed42</td>\n",
              "      <td>0</td>\n",
              "      <td>0</td>\n",
              "      <td>0.0</td>\n",
              "      <td>0</td>\n",
              "      <td>1</td>\n",
              "      <td>0</td>\n",
              "      <td>0</td>\n",
              "      <td>0</td>\n",
              "      <td>0</td>\n",
              "      <td>0.0</td>\n",
              "      <td>0</td>\n",
              "      <td>0</td>\n",
              "      <td>0</td>\n",
              "      <td>0.0</td>\n",
              "      <td>0</td>\n",
              "      <td>0</td>\n",
              "    </tr>\n",
              "    <tr>\n",
              "      <th>3</th>\n",
              "      <td>WilcyWilson#2599001</td>\n",
              "      <td>0</td>\n",
              "      <td>0</td>\n",
              "      <td>0.0</td>\n",
              "      <td>0</td>\n",
              "      <td>1</td>\n",
              "      <td>0</td>\n",
              "      <td>0</td>\n",
              "      <td>0</td>\n",
              "      <td>0</td>\n",
              "      <td>0.0</td>\n",
              "      <td>0</td>\n",
              "      <td>0</td>\n",
              "      <td>0</td>\n",
              "      <td>0.0</td>\n",
              "      <td>0</td>\n",
              "      <td>0</td>\n",
              "    </tr>\n",
              "    <tr>\n",
              "      <th>4</th>\n",
              "      <td>Manuel Alarcon1#6037069</td>\n",
              "      <td>0</td>\n",
              "      <td>0</td>\n",
              "      <td>0.0</td>\n",
              "      <td>0</td>\n",
              "      <td>1</td>\n",
              "      <td>0</td>\n",
              "      <td>0</td>\n",
              "      <td>0</td>\n",
              "      <td>0</td>\n",
              "      <td>0.0</td>\n",
              "      <td>0</td>\n",
              "      <td>0</td>\n",
              "      <td>0</td>\n",
              "      <td>0.0</td>\n",
              "      <td>0</td>\n",
              "      <td>0</td>\n",
              "    </tr>\n",
              "  </tbody>\n",
              "</table>\n",
              "</div>"
            ],
            "text/plain": [
              "                      name  wins  kills  ...  scorePerMinute  shots  deaths\n",
              "0          RggRt45#4697369     0      0  ...             0.0      0       0\n",
              "1          BOBOQQ3#7928912     0      0  ...             0.0      0       0\n",
              "2           TawheedAhmed42     0      0  ...             0.0      0       0\n",
              "3      WilcyWilson#2599001     0      0  ...             0.0      0       0\n",
              "4  Manuel Alarcon1#6037069     0      0  ...             0.0      0       0\n",
              "\n",
              "[5 rows x 17 columns]"
            ]
          },
          "metadata": {
            "tags": []
          },
          "execution_count": 3
        }
      ]
    },
    {
      "cell_type": "code",
      "metadata": {
        "colab": {
          "base_uri": "https://localhost:8080/",
          "height": 256
        },
        "id": "e7Zs55vG566C",
        "outputId": "96abeb44-2b12-460f-e365-1d53a8de03c9"
      },
      "source": [
        "# Showing the last 5 rows of the dataset\n",
        "df.tail()"
      ],
      "execution_count": 4,
      "outputs": [
        {
          "output_type": "execute_result",
          "data": {
            "text/html": [
              "<div>\n",
              "<style scoped>\n",
              "    .dataframe tbody tr th:only-of-type {\n",
              "        vertical-align: middle;\n",
              "    }\n",
              "\n",
              "    .dataframe tbody tr th {\n",
              "        vertical-align: top;\n",
              "    }\n",
              "\n",
              "    .dataframe thead th {\n",
              "        text-align: right;\n",
              "    }\n",
              "</style>\n",
              "<table border=\"1\" class=\"dataframe\">\n",
              "  <thead>\n",
              "    <tr style=\"text-align: right;\">\n",
              "      <th></th>\n",
              "      <th>name</th>\n",
              "      <th>wins</th>\n",
              "      <th>kills</th>\n",
              "      <th>kdRatio</th>\n",
              "      <th>killstreak</th>\n",
              "      <th>level</th>\n",
              "      <th>losses</th>\n",
              "      <th>hits</th>\n",
              "      <th>timePlayed</th>\n",
              "      <th>headshots</th>\n",
              "      <th>averageTime</th>\n",
              "      <th>gamesPlayed</th>\n",
              "      <th>assists</th>\n",
              "      <th>misses</th>\n",
              "      <th>scorePerMinute</th>\n",
              "      <th>shots</th>\n",
              "      <th>deaths</th>\n",
              "    </tr>\n",
              "  </thead>\n",
              "  <tbody>\n",
              "    <tr>\n",
              "      <th>1553</th>\n",
              "      <td>Skelevra#2429467</td>\n",
              "      <td>826</td>\n",
              "      <td>25187</td>\n",
              "      <td>1.158343</td>\n",
              "      <td>19</td>\n",
              "      <td>349</td>\n",
              "      <td>11</td>\n",
              "      <td>69641</td>\n",
              "      <td>2912</td>\n",
              "      <td>4127</td>\n",
              "      <td>5.578544</td>\n",
              "      <td>522</td>\n",
              "      <td>4338</td>\n",
              "      <td>323167</td>\n",
              "      <td>93.650275</td>\n",
              "      <td>392808</td>\n",
              "      <td>21744</td>\n",
              "    </tr>\n",
              "    <tr>\n",
              "      <th>1554</th>\n",
              "      <td>BigGunzGaming</td>\n",
              "      <td>373</td>\n",
              "      <td>12236</td>\n",
              "      <td>1.881593</td>\n",
              "      <td>11</td>\n",
              "      <td>351</td>\n",
              "      <td>14</td>\n",
              "      <td>6559</td>\n",
              "      <td>2197</td>\n",
              "      <td>2748</td>\n",
              "      <td>23.126316</td>\n",
              "      <td>95</td>\n",
              "      <td>1122</td>\n",
              "      <td>25157</td>\n",
              "      <td>21.506600</td>\n",
              "      <td>31716</td>\n",
              "      <td>6503</td>\n",
              "    </tr>\n",
              "    <tr>\n",
              "      <th>1555</th>\n",
              "      <td>Wong Fei Hung#1012391</td>\n",
              "      <td>1108</td>\n",
              "      <td>31623</td>\n",
              "      <td>1.148925</td>\n",
              "      <td>18</td>\n",
              "      <td>370</td>\n",
              "      <td>13</td>\n",
              "      <td>91355</td>\n",
              "      <td>3400</td>\n",
              "      <td>5832</td>\n",
              "      <td>4.670330</td>\n",
              "      <td>728</td>\n",
              "      <td>5295</td>\n",
              "      <td>304895</td>\n",
              "      <td>125.017059</td>\n",
              "      <td>396250</td>\n",
              "      <td>27524</td>\n",
              "    </tr>\n",
              "    <tr>\n",
              "      <th>1556</th>\n",
              "      <td>Super-Tosto69#8537760</td>\n",
              "      <td>1117</td>\n",
              "      <td>18704</td>\n",
              "      <td>1.876216</td>\n",
              "      <td>19</td>\n",
              "      <td>433</td>\n",
              "      <td>31</td>\n",
              "      <td>14715</td>\n",
              "      <td>3509</td>\n",
              "      <td>4768</td>\n",
              "      <td>23.870748</td>\n",
              "      <td>147</td>\n",
              "      <td>863</td>\n",
              "      <td>44293</td>\n",
              "      <td>21.994300</td>\n",
              "      <td>59008</td>\n",
              "      <td>9969</td>\n",
              "    </tr>\n",
              "    <tr>\n",
              "      <th>1557</th>\n",
              "      <td>Killopen#6131856</td>\n",
              "      <td>1746</td>\n",
              "      <td>51595</td>\n",
              "      <td>0.920238</td>\n",
              "      <td>19</td>\n",
              "      <td>435</td>\n",
              "      <td>10</td>\n",
              "      <td>145596</td>\n",
              "      <td>6231</td>\n",
              "      <td>9673</td>\n",
              "      <td>5.227349</td>\n",
              "      <td>1192</td>\n",
              "      <td>10472</td>\n",
              "      <td>600193</td>\n",
              "      <td>110.934232</td>\n",
              "      <td>745789</td>\n",
              "      <td>56067</td>\n",
              "    </tr>\n",
              "  </tbody>\n",
              "</table>\n",
              "</div>"
            ],
            "text/plain": [
              "                       name  wins  kills  ...  scorePerMinute   shots  deaths\n",
              "1553       Skelevra#2429467   826  25187  ...       93.650275  392808   21744\n",
              "1554          BigGunzGaming   373  12236  ...       21.506600   31716    6503\n",
              "1555  Wong Fei Hung#1012391  1108  31623  ...      125.017059  396250   27524\n",
              "1556  Super-Tosto69#8537760  1117  18704  ...       21.994300   59008    9969\n",
              "1557       Killopen#6131856  1746  51595  ...      110.934232  745789   56067\n",
              "\n",
              "[5 rows x 17 columns]"
            ]
          },
          "metadata": {
            "tags": []
          },
          "execution_count": 4
        }
      ]
    },
    {
      "cell_type": "markdown",
      "metadata": {
        "id": "fr6bth1-6gMs"
      },
      "source": [
        "## Visualizing the dataset:"
      ]
    },
    {
      "cell_type": "code",
      "metadata": {
        "colab": {
          "base_uri": "https://localhost:8080/",
          "height": 312
        },
        "id": "OBEti0966mJu",
        "outputId": "f6c173bd-7b06-4763-d527-31856ec35c0a"
      },
      "source": [
        "# Cleaning up the variable names so they are easier to understand\n",
        "df.rename(columns={'name':'Username of Player'}, inplace=True)\n",
        "df.rename(columns={'wins':'Match Wins'}, inplace=True)\n",
        "df.rename(columns={'kills':'Match Kills'}, inplace=True)\n",
        "df.rename(columns={'kdRatio':'Kill/Death Ratio'}, inplace=True)\n",
        "df.rename(columns={'killstreak':'Kill Streak'}, inplace=True)\n",
        "df.rename(columns={'level':'Level'}, inplace=True)\n",
        "df.rename(columns={'losses':'Match Losses'}, inplace=True)\n",
        "df.rename(columns={'hits':'Enemy Hits'}, inplace=True)\n",
        "df.rename(columns={'timePlayed':'Hours Played'}, inplace=True)\n",
        "df.rename(columns={'headshots':'Headshots'}, inplace=True)\n",
        "df.rename(columns={'averageTime':'Average Hours Played per Day'}, inplace=True)\n",
        "df.rename(columns={'gamesPlayed':'Number of Multiplayer Matches Played'}, inplace=True)\n",
        "df.rename(columns={'assists':'Assisted Kills'}, inplace=True)\n",
        "df.rename(columns={'misses':'Missed Hits'}, inplace=True)\n",
        "df.rename(columns={'scorePerMinute':'Points Gained per Minute'}, inplace=True)\n",
        "df.rename(columns={'shots':'Shots Taken'}, inplace=True)\n",
        "df.rename(columns={'deaths':'Player Deaths'}, inplace=True)\n",
        "\n",
        "# Creating a histogram based on number of players and their average hours spent playing CoD per day\n",
        "plt.hist(df[\"Average Hours Played per Day\"], bins=20, range = [0,24])\n",
        "plt.xlabel('Average Hours Played')\n",
        "plt.ylabel('Number of Players')\n",
        "plt.title('Average Amount of Hours Spent Playing Call of Duty per Day')"
      ],
      "execution_count": 5,
      "outputs": [
        {
          "output_type": "execute_result",
          "data": {
            "text/plain": [
              "Text(0.5, 1.0, 'Average Amount of Hours Spent Playing Call of Duty per Day')"
            ]
          },
          "metadata": {
            "tags": []
          },
          "execution_count": 5
        },
        {
          "output_type": "display_data",
          "data": {
            "image/png": "[encoded data removed]",
            "text/plain": [
              "<Figure size 432x288 with 1 Axes>"
            ]
          },
          "metadata": {
            "tags": [],
            "needs_background": "light"
          }
        }
      ]
    },
    {
      "cell_type": "code",
      "metadata": {
        "colab": {
          "base_uri": "https://localhost:8080/",
          "height": 312
        },
        "id": "ZVt_YkBHOATV",
        "outputId": "6a38c9e0-b721-4c15-bbc9-d143531d224c"
      },
      "source": [
        "# Creating a scatterplot for amount of matchs won by total hours played\n",
        "plt.scatter('Hours Played', 'Match Wins', data=df, color = 'crimson')\n",
        "plt.xlabel('Hours Played', fontsize='medium')\n",
        "plt.ylabel('Match Wins', fontsize='medium')\n",
        "plt.title(\"Match Wins by Total Number of Hours Spent Playing CoD\")"
      ],
      "execution_count": 6,
      "outputs": [
        {
          "output_type": "execute_result",
          "data": {
            "text/plain": [
              "Text(0.5, 1.0, 'Match Wins by Total Number of Hours Spent Playing CoD')"
            ]
          },
          "metadata": {
            "tags": []
          },
          "execution_count": 6
        },
        {
          "output_type": "display_data",
          "data": {
            "image/png": "[encoded data removed]",
            "text/plain": [
              "<Figure size 432x288 with 1 Axes>"
            ]
          },
          "metadata": {
            "tags": [],
            "needs_background": "light"
          }
        }
      ]
    },
    {
      "cell_type": "code",
      "metadata": {
        "colab": {
          "base_uri": "https://localhost:8080/",
          "height": 312
        },
        "id": "6KmSO0U24iu2",
        "outputId": "771232c8-d4d2-48e4-8837-b060ed8a3e02"
      },
      "source": [
        "# Creating a scatterplot for kill/death ratios by total hours played\n",
        "plt.scatter('Hours Played', 'Kill/Death Ratio', data=df, color = 'navy')\n",
        "plt.xlabel('Hours Played', fontsize='medium')\n",
        "plt.ylabel('Kill/Death Ratio', fontsize='medium');\n",
        "plt.title(\"Kill/Death Ratio by Total Number of Hours Spent Playing CoD\")"
      ],
      "execution_count": 7,
      "outputs": [
        {
          "output_type": "execute_result",
          "data": {
            "text/plain": [
              "Text(0.5, 1.0, 'Kill/Death Ratio by Total Number of Hours Spent Playing CoD')"
            ]
          },
          "metadata": {
            "tags": []
          },
          "execution_count": 7
        },
        {
          "output_type": "display_data",
          "data": {
            "image/png": "[encoded data removed]",
            "text/plain": [
              "<Figure size 432x288 with 1 Axes>"
            ]
          },
          "metadata": {
            "tags": [],
            "needs_background": "light"
          }
        }
      ]
    },
    {
      "cell_type": "code",
      "metadata": {
        "colab": {
          "base_uri": "https://localhost:8080/",
          "height": 312
        },
        "id": "s4nGnqdsolc0",
        "outputId": "838f81b7-7ef1-46a2-8074-dcc48fa650cb"
      },
      "source": [
        "# Reorganizing levels into tiers to better view the data\n",
        "novice = df[df.Level<=30]\n",
        "intermediate = df[(df.Level>30) & (df.Level<=100)]\n",
        "advanced = df[(df.Level>100) & (df.Level<=175)]\n",
        "elite = df[df.Level>175]\n",
        "\n",
        "# Generating a bar chart\n",
        "var1=plt.bar('Novice',novice.count())\n",
        "var2=plt.bar('Intermediate',intermediate.count())\n",
        "var3=plt.bar('Advanced',advanced.count())\n",
        "var4=plt.bar('Elite',elite.count())\n",
        "plt.xlabel(\"Player Level\")\n",
        "plt.ylabel(\"Number of Players\")\n",
        "plt.title(\"Tier Levels of Players\")"
      ],
      "execution_count": 8,
      "outputs": [
        {
          "output_type": "execute_result",
          "data": {
            "text/plain": [
              "Text(0.5, 1.0, 'Tier Levels of Players')"
            ]
          },
          "metadata": {
            "tags": []
          },
          "execution_count": 8
        },
        {
          "output_type": "display_data",
          "data": {
            "image/png": "[encoded data removed]",
            "text/plain": [
              "<Figure size 432x288 with 1 Axes>"
            ]
          },
          "metadata": {
            "tags": [],
            "needs_background": "light"
          }
        }
      ]
    },
    {
      "cell_type": "code",
      "metadata": {
        "colab": {
          "base_uri": "https://localhost:8080/",
          "height": 350
        },
        "id": "7gW0WIpmeTKk",
        "outputId": "4baaba6f-4379-4c3b-8d09-a7663fb84722"
      },
      "source": [
        "# Creating a boxplot\n",
        "kdratio = [novice['Kill/Death Ratio'], intermediate['Kill/Death Ratio'], advanced['Kill/Death Ratio'], elite['Kill/Death Ratio']]\n",
        "fig, ax = plt.subplots()\n",
        "ax.boxplot(kdratio)\n",
        "ax.set_title('Kill/Death Ratio by Player Tier Level')\n",
        "ax.set_xlabel('Player Level')\n",
        "ax.set_ylabel('Player Deaths')\n",
        "ax.set_xticklabels(['Novice', 'Intermediate', 'Advanced', 'Elite'])\n",
        "plt.show()"
      ],
      "execution_count": 9,
      "outputs": [
        {
          "output_type": "stream",
          "text": [
            "/usr/local/lib/python3.7/dist-packages/numpy/core/_asarray.py:83: VisibleDeprecationWarning: Creating an ndarray from ragged nested sequences (which is a list-or-tuple of lists-or-tuples-or ndarrays with different lengths or shapes) is deprecated. If you meant to do this, you must specify 'dtype=object' when creating the ndarray\n",
            "  return array(a, dtype, copy=False, order=order)\n"
          ],
          "name": "stderr"
        },
        {
          "output_type": "display_data",
          "data": {
            "image/png": "[encoded data removed]",
            "text/plain": [
              "<Figure size 432x288 with 1 Axes>"
            ]
          },
          "metadata": {
            "tags": [],
            "needs_background": "light"
          }
        }
      ]
    },
    {
      "cell_type": "markdown",
      "metadata": {
        "id": "kzgwed3d8Z9u"
      },
      "source": [
        "## Feature engineering:"
      ]
    },
    {
      "cell_type": "code",
      "metadata": {
        "colab": {
          "base_uri": "https://localhost:8080/"
        },
        "id": "dD3aBGTy8hEM",
        "outputId": "11bc7edc-31d6-42dc-a19a-70e2463dd99a"
      },
      "source": [
        "# Show whether or not there are missing data\n",
        "dropped_rows = df['Hours Played'].drop(df[df['Hours Played'] < 1].index, inplace=True)\n",
        "\n",
        "df.shape"
      ],
      "execution_count": 10,
      "outputs": [
        {
          "output_type": "execute_result",
          "data": {
            "text/plain": [
              "(1558, 17)"
            ]
          },
          "metadata": {
            "tags": []
          },
          "execution_count": 10
        }
      ]
    },
    {
      "cell_type": "code",
      "metadata": {
        "colab": {
          "base_uri": "https://localhost:8080/"
        },
        "id": "riZGh2le9CuL",
        "outputId": "1504f44d-5b0c-4959-ed46-f44a8924311c"
      },
      "source": [
        "# Show whether or not there are duplicates\n",
        "df = df.drop_duplicates(subset=['Username of Player'])\n",
        "\n",
        "df.shape"
      ],
      "execution_count": 11,
      "outputs": [
        {
          "output_type": "execute_result",
          "data": {
            "text/plain": [
              "(1558, 17)"
            ]
          },
          "metadata": {
            "tags": []
          },
          "execution_count": 11
        }
      ]
    },
    {
      "cell_type": "code",
      "metadata": {
        "colab": {
          "base_uri": "https://localhost:8080/"
        },
        "id": "7a9TfJBp9081",
        "outputId": "9f7c3587-71e3-499d-dd38-07c23eb02151"
      },
      "source": [
        "# Show whether or not there are outliers\n",
        "Q1 = df.quantile(0.25)\n",
        "Q3 = df.quantile(0.75)\n",
        "IQR = Q3 - Q1\n",
        "print(IQR)"
      ],
      "execution_count": 12,
      "outputs": [
        {
          "output_type": "stream",
          "text": [
            "Match Wins                                168.000000\n",
            "Match Kills                              3441.750000\n",
            "Kill/Death Ratio                            0.693851\n",
            "Kill Streak                                12.000000\n",
            "Level                                      50.000000\n",
            "Match Losses                                8.000000\n",
            "Enemy Hits                               9015.500000\n",
            "Hours Played                              481.500000\n",
            "Headshots                                 601.750000\n",
            "Average Hours Played per Day                7.085714\n",
            "Number of Multiplayer Matches Played      110.500000\n",
            "Assisted Kills                            609.750000\n",
            "Missed Hits                             40906.750000\n",
            "Points Gained per Minute                  221.648976\n",
            "Shots Taken                             50781.000000\n",
            "Player Deaths                            3684.750000\n",
            "dtype: float64\n"
          ],
          "name": "stdout"
        }
      ]
    },
    {
      "cell_type": "markdown",
      "metadata": {
        "id": "WbCWW3sh-kjY"
      },
      "source": [
        "## What's next:"
      ]
    },
    {
      "cell_type": "markdown",
      "metadata": {
        "id": "I_qKjF9e-nM6"
      },
      "source": [
        "I plan to still work on the visualizations with this data by nicluding more scatterplots (perhaps even subplots of this) to better understand the correlations for players. I'd like to learn more about if more time spent playing the Call of Duty increases player skills in terms of wins, kill-death ratios, headshots, and kills. Although I do think player level may play an importance, I think hours pent playing is more important because I know that the leveling system in the game is not entirely accurate towards skill level.\n",
        "\n",
        "\n",
        "There are missing data in this dataset since after checking, 210 players had no hours logged, meaning they had created an account but never played, s these were removed. My data doesn't currently have any duplicates of player data for one user, but I do see quite a few outliers in the scatterplots and boxplot prior to removal of missing data. I will need to remove these outliers in order to retrieve more accurate information for the visualizations. Thus, once this is altered, new visualizations will need to be made to reflect the updated dataset."
      ]
    }
  ]
}