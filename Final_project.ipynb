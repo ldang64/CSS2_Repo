{
  "nbformat": 4,
  "nbformat_minor": 0,
  "metadata": {
    "colab": {
      "name": "Dang_Lisa_Final_project.ipynb",
      "provenance": [],
      "collapsed_sections": []
    },
    "kernelspec": {
      "name": "python3",
      "display_name": "Python 3"
    }
  },
  "cells": [
    {
      "cell_type": "markdown",
      "metadata": {
        "id": "c48Ljd_r5avn"
      },
      "source": [
        "******************\n",
        "*******************\n",
        "\n",
        "# **Description of data**\n",
        "\n",
        "The dataset I will be utilizing is the Call of Duty: Modern Warfare - Players Skills set. This dataset contains data from over 1,000 players and is gathered by the use of rapid API by Alexandre Le Corre.\n",
        "\n",
        "With this data, I plan to analyze how certain behaviors affect player skills in the game and see if there are any potential third variables that could factor in and influence results. To do this, I will be running a linear regression on player data to establish what factors impact their in-game skills."
      ]
    },
    {
      "cell_type": "markdown",
      "metadata": {
        "id": "41qkbQM57ToO"
      },
      "source": [
        "*******************\n",
        "*******************\n",
        "# **Libraries**"
      ]
    },
    {
      "cell_type": "code",
      "metadata": {
        "id": "o2hx4NVE7S3M"
      },
      "source": [
        "# Importing libraries to be used for the dataset\n",
        "import numpy as np\n",
        "import pandas as pd\n",
        "import seaborn as sns\n",
        "import matplotlib.pyplot as plt\n",
        "import csv\n",
        "\n",
        "from sklearn.model_selection import train_test_split\n",
        "from sklearn.linear_model import LogisticRegression\n",
        "from sklearn.ensemble import RandomForestClassifier\n",
        "from sklearn.ensemble import RandomForestRegressor\n",
        "from sklearn.metrics import roc_curve\n",
        "from sklearn.metrics import roc_auc_score\n",
        "from sklearn.metrics import confusion_matrix\n",
        "from sklearn.metrics import classification_report\n",
        "from sklearn import metrics\n",
        "from scipy import stats"
      ],
      "execution_count": 1,
      "outputs": []
    },
    {
      "cell_type": "markdown",
      "metadata": {
        "id": "NWIyiy4m5lAI"
      },
      "source": [
        "*******************\n",
        "*******************\n",
        "# **Getting data**\n",
        "\n",
        "First, let's start off with retreiving the dataset to be used for our tasks. We're using the Call of Duty: Modern Warfare dataset and will import its data to create a table."
      ]
    },
    {
      "cell_type": "code",
      "metadata": {
        "id": "lQDr0VdN5sYN"
      },
      "source": [
        "# Code for acquiring data\n",
        "df = pd.read_csv(\"CallofDutyModernWarfare.csv\")"
      ],
      "execution_count": 2,
      "outputs": []
    },
    {
      "cell_type": "markdown",
      "metadata": {
        "id": "oexMqGYBAjhZ"
      },
      "source": [
        "Let's take a look at the data we'll be working with."
      ]
    },
    {
      "cell_type": "code",
      "metadata": {
        "id": "kkNQsxro5XmC",
        "colab": {
          "base_uri": "https://localhost:8080/",
          "height": 243
        },
        "outputId": "c47927c1-6d11-401b-ddca-8f67d1f7c03d"
      },
      "source": [
        "# Display first 5 rows of data\n",
        "df.head()"
      ],
      "execution_count": 3,
      "outputs": [
        {
          "output_type": "execute_result",
          "data": {
            "text/html": [
              "<div>\n",
              "<style scoped>\n",
              "    .dataframe tbody tr th:only-of-type {\n",
              "        vertical-align: middle;\n",
              "    }\n",
              "\n",
              "    .dataframe tbody tr th {\n",
              "        vertical-align: top;\n",
              "    }\n",
              "\n",
              "    .dataframe thead th {\n",
              "        text-align: right;\n",
              "    }\n",
              "</style>\n",
              "<table border=\"1\" class=\"dataframe\">\n",
              "  <thead>\n",
              "    <tr style=\"text-align: right;\">\n",
              "      <th></th>\n",
              "      <th>name</th>\n",
              "      <th>wins</th>\n",
              "      <th>kills</th>\n",
              "      <th>kdRatio</th>\n",
              "      <th>killstreak</th>\n",
              "      <th>level</th>\n",
              "      <th>losses</th>\n",
              "      <th>hits</th>\n",
              "      <th>timePlayed</th>\n",
              "      <th>headshots</th>\n",
              "      <th>averageTime</th>\n",
              "      <th>gamesPlayed</th>\n",
              "      <th>assists</th>\n",
              "      <th>misses</th>\n",
              "      <th>scorePerMinute</th>\n",
              "      <th>shots</th>\n",
              "      <th>deaths</th>\n",
              "    </tr>\n",
              "  </thead>\n",
              "  <tbody>\n",
              "    <tr>\n",
              "      <th>0</th>\n",
              "      <td>RggRt45#4697369</td>\n",
              "      <td>0</td>\n",
              "      <td>0</td>\n",
              "      <td>0.0</td>\n",
              "      <td>0</td>\n",
              "      <td>1</td>\n",
              "      <td>0</td>\n",
              "      <td>0</td>\n",
              "      <td>0</td>\n",
              "      <td>0</td>\n",
              "      <td>0.0</td>\n",
              "      <td>0</td>\n",
              "      <td>0</td>\n",
              "      <td>0</td>\n",
              "      <td>0.0</td>\n",
              "      <td>0</td>\n",
              "      <td>0</td>\n",
              "    </tr>\n",
              "    <tr>\n",
              "      <th>1</th>\n",
              "      <td>BOBOQQ3#7928912</td>\n",
              "      <td>0</td>\n",
              "      <td>0</td>\n",
              "      <td>0.0</td>\n",
              "      <td>0</td>\n",
              "      <td>1</td>\n",
              "      <td>0</td>\n",
              "      <td>0</td>\n",
              "      <td>0</td>\n",
              "      <td>0</td>\n",
              "      <td>0.0</td>\n",
              "      <td>0</td>\n",
              "      <td>0</td>\n",
              "      <td>0</td>\n",
              "      <td>0.0</td>\n",
              "      <td>0</td>\n",
              "      <td>0</td>\n",
              "    </tr>\n",
              "    <tr>\n",
              "      <th>2</th>\n",
              "      <td>TawheedAhmed42</td>\n",
              "      <td>0</td>\n",
              "      <td>0</td>\n",
              "      <td>0.0</td>\n",
              "      <td>0</td>\n",
              "      <td>1</td>\n",
              "      <td>0</td>\n",
              "      <td>0</td>\n",
              "      <td>0</td>\n",
              "      <td>0</td>\n",
              "      <td>0.0</td>\n",
              "      <td>0</td>\n",
              "      <td>0</td>\n",
              "      <td>0</td>\n",
              "      <td>0.0</td>\n",
              "      <td>0</td>\n",
              "      <td>0</td>\n",
              "    </tr>\n",
              "    <tr>\n",
              "      <th>3</th>\n",
              "      <td>WilcyWilson#2599001</td>\n",
              "      <td>0</td>\n",
              "      <td>0</td>\n",
              "      <td>0.0</td>\n",
              "      <td>0</td>\n",
              "      <td>1</td>\n",
              "      <td>0</td>\n",
              "      <td>0</td>\n",
              "      <td>0</td>\n",
              "      <td>0</td>\n",
              "      <td>0.0</td>\n",
              "      <td>0</td>\n",
              "      <td>0</td>\n",
              "      <td>0</td>\n",
              "      <td>0.0</td>\n",
              "      <td>0</td>\n",
              "      <td>0</td>\n",
              "    </tr>\n",
              "    <tr>\n",
              "      <th>4</th>\n",
              "      <td>Manuel Alarcon1#6037069</td>\n",
              "      <td>0</td>\n",
              "      <td>0</td>\n",
              "      <td>0.0</td>\n",
              "      <td>0</td>\n",
              "      <td>1</td>\n",
              "      <td>0</td>\n",
              "      <td>0</td>\n",
              "      <td>0</td>\n",
              "      <td>0</td>\n",
              "      <td>0.0</td>\n",
              "      <td>0</td>\n",
              "      <td>0</td>\n",
              "      <td>0</td>\n",
              "      <td>0.0</td>\n",
              "      <td>0</td>\n",
              "      <td>0</td>\n",
              "    </tr>\n",
              "  </tbody>\n",
              "</table>\n",
              "</div>"
            ],
            "text/plain": [
              "                      name  wins  kills  ...  scorePerMinute  shots  deaths\n",
              "0          RggRt45#4697369     0      0  ...             0.0      0       0\n",
              "1          BOBOQQ3#7928912     0      0  ...             0.0      0       0\n",
              "2           TawheedAhmed42     0      0  ...             0.0      0       0\n",
              "3      WilcyWilson#2599001     0      0  ...             0.0      0       0\n",
              "4  Manuel Alarcon1#6037069     0      0  ...             0.0      0       0\n",
              "\n",
              "[5 rows x 17 columns]"
            ]
          },
          "metadata": {
            "tags": []
          },
          "execution_count": 3
        }
      ]
    },
    {
      "cell_type": "code",
      "metadata": {
        "id": "O4Bm2e6i6wJn",
        "colab": {
          "base_uri": "https://localhost:8080/",
          "height": 261
        },
        "outputId": "439a5058-0708-45d2-f174-58dd12bdf4ea"
      },
      "source": [
        "# Display last 5 rows of data\n",
        "df.tail()"
      ],
      "execution_count": 4,
      "outputs": [
        {
          "output_type": "execute_result",
          "data": {
            "text/html": [
              "<div>\n",
              "<style scoped>\n",
              "    .dataframe tbody tr th:only-of-type {\n",
              "        vertical-align: middle;\n",
              "    }\n",
              "\n",
              "    .dataframe tbody tr th {\n",
              "        vertical-align: top;\n",
              "    }\n",
              "\n",
              "    .dataframe thead th {\n",
              "        text-align: right;\n",
              "    }\n",
              "</style>\n",
              "<table border=\"1\" class=\"dataframe\">\n",
              "  <thead>\n",
              "    <tr style=\"text-align: right;\">\n",
              "      <th></th>\n",
              "      <th>name</th>\n",
              "      <th>wins</th>\n",
              "      <th>kills</th>\n",
              "      <th>kdRatio</th>\n",
              "      <th>killstreak</th>\n",
              "      <th>level</th>\n",
              "      <th>losses</th>\n",
              "      <th>hits</th>\n",
              "      <th>timePlayed</th>\n",
              "      <th>headshots</th>\n",
              "      <th>averageTime</th>\n",
              "      <th>gamesPlayed</th>\n",
              "      <th>assists</th>\n",
              "      <th>misses</th>\n",
              "      <th>scorePerMinute</th>\n",
              "      <th>shots</th>\n",
              "      <th>deaths</th>\n",
              "    </tr>\n",
              "  </thead>\n",
              "  <tbody>\n",
              "    <tr>\n",
              "      <th>1553</th>\n",
              "      <td>Skelevra#2429467</td>\n",
              "      <td>826</td>\n",
              "      <td>25187</td>\n",
              "      <td>1.158343</td>\n",
              "      <td>19</td>\n",
              "      <td>349</td>\n",
              "      <td>11</td>\n",
              "      <td>69641</td>\n",
              "      <td>2912</td>\n",
              "      <td>4127</td>\n",
              "      <td>5.578544</td>\n",
              "      <td>522</td>\n",
              "      <td>4338</td>\n",
              "      <td>323167</td>\n",
              "      <td>93.650275</td>\n",
              "      <td>392808</td>\n",
              "      <td>21744</td>\n",
              "    </tr>\n",
              "    <tr>\n",
              "      <th>1554</th>\n",
              "      <td>BigGunzGaming</td>\n",
              "      <td>373</td>\n",
              "      <td>12236</td>\n",
              "      <td>1.881593</td>\n",
              "      <td>11</td>\n",
              "      <td>351</td>\n",
              "      <td>14</td>\n",
              "      <td>6559</td>\n",
              "      <td>2197</td>\n",
              "      <td>2748</td>\n",
              "      <td>23.126316</td>\n",
              "      <td>95</td>\n",
              "      <td>1122</td>\n",
              "      <td>25157</td>\n",
              "      <td>21.506600</td>\n",
              "      <td>31716</td>\n",
              "      <td>6503</td>\n",
              "    </tr>\n",
              "    <tr>\n",
              "      <th>1555</th>\n",
              "      <td>Wong Fei Hung#1012391</td>\n",
              "      <td>1108</td>\n",
              "      <td>31623</td>\n",
              "      <td>1.148925</td>\n",
              "      <td>18</td>\n",
              "      <td>370</td>\n",
              "      <td>13</td>\n",
              "      <td>91355</td>\n",
              "      <td>3400</td>\n",
              "      <td>5832</td>\n",
              "      <td>4.670330</td>\n",
              "      <td>728</td>\n",
              "      <td>5295</td>\n",
              "      <td>304895</td>\n",
              "      <td>125.017059</td>\n",
              "      <td>396250</td>\n",
              "      <td>27524</td>\n",
              "    </tr>\n",
              "    <tr>\n",
              "      <th>1556</th>\n",
              "      <td>Super-Tosto69#8537760</td>\n",
              "      <td>1117</td>\n",
              "      <td>18704</td>\n",
              "      <td>1.876216</td>\n",
              "      <td>19</td>\n",
              "      <td>433</td>\n",
              "      <td>31</td>\n",
              "      <td>14715</td>\n",
              "      <td>3509</td>\n",
              "      <td>4768</td>\n",
              "      <td>23.870748</td>\n",
              "      <td>147</td>\n",
              "      <td>863</td>\n",
              "      <td>44293</td>\n",
              "      <td>21.994300</td>\n",
              "      <td>59008</td>\n",
              "      <td>9969</td>\n",
              "    </tr>\n",
              "    <tr>\n",
              "      <th>1557</th>\n",
              "      <td>Killopen#6131856</td>\n",
              "      <td>1746</td>\n",
              "      <td>51595</td>\n",
              "      <td>0.920238</td>\n",
              "      <td>19</td>\n",
              "      <td>435</td>\n",
              "      <td>10</td>\n",
              "      <td>145596</td>\n",
              "      <td>6231</td>\n",
              "      <td>9673</td>\n",
              "      <td>5.227349</td>\n",
              "      <td>1192</td>\n",
              "      <td>10472</td>\n",
              "      <td>600193</td>\n",
              "      <td>110.934232</td>\n",
              "      <td>745789</td>\n",
              "      <td>56067</td>\n",
              "    </tr>\n",
              "  </tbody>\n",
              "</table>\n",
              "</div>"
            ],
            "text/plain": [
              "                       name  wins  kills  ...  scorePerMinute   shots  deaths\n",
              "1553       Skelevra#2429467   826  25187  ...       93.650275  392808   21744\n",
              "1554          BigGunzGaming   373  12236  ...       21.506600   31716    6503\n",
              "1555  Wong Fei Hung#1012391  1108  31623  ...      125.017059  396250   27524\n",
              "1556  Super-Tosto69#8537760  1117  18704  ...       21.994300   59008    9969\n",
              "1557       Killopen#6131856  1746  51595  ...      110.934232  745789   56067\n",
              "\n",
              "[5 rows x 17 columns]"
            ]
          },
          "metadata": {
            "tags": []
          },
          "execution_count": 4
        }
      ]
    },
    {
      "cell_type": "code",
      "metadata": {
        "id": "RJLape8Q6y4M",
        "colab": {
          "base_uri": "https://localhost:8080/"
        },
        "outputId": "5a13a90a-f35f-4584-89cb-36165caba65b"
      },
      "source": [
        "# Show data.info\n",
        "df.info()"
      ],
      "execution_count": 5,
      "outputs": [
        {
          "output_type": "stream",
          "text": [
            "<class 'pandas.core.frame.DataFrame'>\n",
            "RangeIndex: 1558 entries, 0 to 1557\n",
            "Data columns (total 17 columns):\n",
            " #   Column          Non-Null Count  Dtype  \n",
            "---  ------          --------------  -----  \n",
            " 0   name            1558 non-null   object \n",
            " 1   wins            1558 non-null   int64  \n",
            " 2   kills           1558 non-null   int64  \n",
            " 3   kdRatio         1558 non-null   float64\n",
            " 4   killstreak      1558 non-null   int64  \n",
            " 5   level           1558 non-null   int64  \n",
            " 6   losses          1558 non-null   int64  \n",
            " 7   hits            1558 non-null   int64  \n",
            " 8   timePlayed      1558 non-null   int64  \n",
            " 9   headshots       1558 non-null   int64  \n",
            " 10  averageTime     1558 non-null   float64\n",
            " 11  gamesPlayed     1558 non-null   int64  \n",
            " 12  assists         1558 non-null   int64  \n",
            " 13  misses          1558 non-null   int64  \n",
            " 14  scorePerMinute  1558 non-null   float64\n",
            " 15  shots           1558 non-null   int64  \n",
            " 16  deaths          1558 non-null   int64  \n",
            "dtypes: float64(3), int64(13), object(1)\n",
            "memory usage: 207.0+ KB\n"
          ],
          "name": "stdout"
        }
      ]
    },
    {
      "cell_type": "code",
      "metadata": {
        "id": "gvgJ3Ie463_8",
        "colab": {
          "base_uri": "https://localhost:8080/",
          "height": 320
        },
        "outputId": "706239d5-1924-47a7-b1a0-054d98cab082"
      },
      "source": [
        "# Show data.describe\n",
        "df.describe()"
      ],
      "execution_count": 6,
      "outputs": [
        {
          "output_type": "execute_result",
          "data": {
            "text/html": [
              "<div>\n",
              "<style scoped>\n",
              "    .dataframe tbody tr th:only-of-type {\n",
              "        vertical-align: middle;\n",
              "    }\n",
              "\n",
              "    .dataframe tbody tr th {\n",
              "        vertical-align: top;\n",
              "    }\n",
              "\n",
              "    .dataframe thead th {\n",
              "        text-align: right;\n",
              "    }\n",
              "</style>\n",
              "<table border=\"1\" class=\"dataframe\">\n",
              "  <thead>\n",
              "    <tr style=\"text-align: right;\">\n",
              "      <th></th>\n",
              "      <th>wins</th>\n",
              "      <th>kills</th>\n",
              "      <th>kdRatio</th>\n",
              "      <th>killstreak</th>\n",
              "      <th>level</th>\n",
              "      <th>losses</th>\n",
              "      <th>hits</th>\n",
              "      <th>timePlayed</th>\n",
              "      <th>headshots</th>\n",
              "      <th>averageTime</th>\n",
              "      <th>gamesPlayed</th>\n",
              "      <th>assists</th>\n",
              "      <th>misses</th>\n",
              "      <th>scorePerMinute</th>\n",
              "      <th>shots</th>\n",
              "      <th>deaths</th>\n",
              "    </tr>\n",
              "  </thead>\n",
              "  <tbody>\n",
              "    <tr>\n",
              "      <th>count</th>\n",
              "      <td>1558.000000</td>\n",
              "      <td>1558.000000</td>\n",
              "      <td>1558.000000</td>\n",
              "      <td>1558.000000</td>\n",
              "      <td>1558.000000</td>\n",
              "      <td>1558.000000</td>\n",
              "      <td>1558.000000</td>\n",
              "      <td>1558.000000</td>\n",
              "      <td>1558.000000</td>\n",
              "      <td>1558.000000</td>\n",
              "      <td>1558.000000</td>\n",
              "      <td>1558.000000</td>\n",
              "      <td>1558.000000</td>\n",
              "      <td>1558.000000</td>\n",
              "      <td>1.558000e+03</td>\n",
              "      <td>1558.000000</td>\n",
              "    </tr>\n",
              "    <tr>\n",
              "      <th>mean</th>\n",
              "      <td>153.002567</td>\n",
              "      <td>3753.001926</td>\n",
              "      <td>0.637098</td>\n",
              "      <td>6.895379</td>\n",
              "      <td>44.414634</td>\n",
              "      <td>4.998074</td>\n",
              "      <td>10330.189987</td>\n",
              "      <td>425.915918</td>\n",
              "      <td>630.672657</td>\n",
              "      <td>21.428416</td>\n",
              "      <td>116.695764</td>\n",
              "      <td>685.797176</td>\n",
              "      <td>45356.671374</td>\n",
              "      <td>107.868825</td>\n",
              "      <td>5.568677e+04</td>\n",
              "      <td>3875.397946</td>\n",
              "    </tr>\n",
              "    <tr>\n",
              "      <th>std</th>\n",
              "      <td>301.984766</td>\n",
              "      <td>7929.696675</td>\n",
              "      <td>0.430459</td>\n",
              "      <td>10.184677</td>\n",
              "      <td>68.318064</td>\n",
              "      <td>7.005778</td>\n",
              "      <td>22954.104384</td>\n",
              "      <td>786.182499</td>\n",
              "      <td>1305.150393</td>\n",
              "      <td>82.640000</td>\n",
              "      <td>256.354836</td>\n",
              "      <td>1518.383825</td>\n",
              "      <td>97919.428339</td>\n",
              "      <td>116.526676</td>\n",
              "      <td>1.202811e+05</td>\n",
              "      <td>7992.666443</td>\n",
              "    </tr>\n",
              "    <tr>\n",
              "      <th>min</th>\n",
              "      <td>0.000000</td>\n",
              "      <td>0.000000</td>\n",
              "      <td>0.000000</td>\n",
              "      <td>0.000000</td>\n",
              "      <td>1.000000</td>\n",
              "      <td>0.000000</td>\n",
              "      <td>0.000000</td>\n",
              "      <td>0.000000</td>\n",
              "      <td>0.000000</td>\n",
              "      <td>0.000000</td>\n",
              "      <td>0.000000</td>\n",
              "      <td>0.000000</td>\n",
              "      <td>0.000000</td>\n",
              "      <td>0.000000</td>\n",
              "      <td>0.000000e+00</td>\n",
              "      <td>0.000000</td>\n",
              "    </tr>\n",
              "    <tr>\n",
              "      <th>25%</th>\n",
              "      <td>0.000000</td>\n",
              "      <td>4.000000</td>\n",
              "      <td>0.261442</td>\n",
              "      <td>0.000000</td>\n",
              "      <td>1.000000</td>\n",
              "      <td>0.000000</td>\n",
              "      <td>0.000000</td>\n",
              "      <td>4.000000</td>\n",
              "      <td>1.000000</td>\n",
              "      <td>2.000000</td>\n",
              "      <td>0.000000</td>\n",
              "      <td>0.000000</td>\n",
              "      <td>0.000000</td>\n",
              "      <td>0.000000</td>\n",
              "      <td>0.000000e+00</td>\n",
              "      <td>14.000000</td>\n",
              "    </tr>\n",
              "    <tr>\n",
              "      <th>50%</th>\n",
              "      <td>10.000000</td>\n",
              "      <td>191.500000</td>\n",
              "      <td>0.732837</td>\n",
              "      <td>5.000000</td>\n",
              "      <td>11.000000</td>\n",
              "      <td>2.000000</td>\n",
              "      <td>214.500000</td>\n",
              "      <td>51.000000</td>\n",
              "      <td>32.000000</td>\n",
              "      <td>3.031116</td>\n",
              "      <td>3.000000</td>\n",
              "      <td>36.500000</td>\n",
              "      <td>1307.500000</td>\n",
              "      <td>56.793995</td>\n",
              "      <td>1.565000e+03</td>\n",
              "      <td>269.000000</td>\n",
              "    </tr>\n",
              "    <tr>\n",
              "      <th>75%</th>\n",
              "      <td>168.000000</td>\n",
              "      <td>3445.750000</td>\n",
              "      <td>0.955293</td>\n",
              "      <td>12.000000</td>\n",
              "      <td>51.000000</td>\n",
              "      <td>8.000000</td>\n",
              "      <td>9015.500000</td>\n",
              "      <td>485.500000</td>\n",
              "      <td>602.750000</td>\n",
              "      <td>9.085714</td>\n",
              "      <td>110.500000</td>\n",
              "      <td>609.750000</td>\n",
              "      <td>40906.750000</td>\n",
              "      <td>221.648976</td>\n",
              "      <td>5.078100e+04</td>\n",
              "      <td>3698.750000</td>\n",
              "    </tr>\n",
              "    <tr>\n",
              "      <th>max</th>\n",
              "      <td>3519.000000</td>\n",
              "      <td>66935.000000</td>\n",
              "      <td>3.000000</td>\n",
              "      <td>235.000000</td>\n",
              "      <td>435.000000</td>\n",
              "      <td>80.000000</td>\n",
              "      <td>209851.000000</td>\n",
              "      <td>7479.000000</td>\n",
              "      <td>11719.000000</td>\n",
              "      <td>1349.000000</td>\n",
              "      <td>3745.000000</td>\n",
              "      <td>14531.000000</td>\n",
              "      <td>965775.000000</td>\n",
              "      <td>413.800000</td>\n",
              "      <td>1.166620e+06</td>\n",
              "      <td>67888.000000</td>\n",
              "    </tr>\n",
              "  </tbody>\n",
              "</table>\n",
              "</div>"
            ],
            "text/plain": [
              "              wins         kills  ...         shots        deaths\n",
              "count  1558.000000   1558.000000  ...  1.558000e+03   1558.000000\n",
              "mean    153.002567   3753.001926  ...  5.568677e+04   3875.397946\n",
              "std     301.984766   7929.696675  ...  1.202811e+05   7992.666443\n",
              "min       0.000000      0.000000  ...  0.000000e+00      0.000000\n",
              "25%       0.000000      4.000000  ...  0.000000e+00     14.000000\n",
              "50%      10.000000    191.500000  ...  1.565000e+03    269.000000\n",
              "75%     168.000000   3445.750000  ...  5.078100e+04   3698.750000\n",
              "max    3519.000000  66935.000000  ...  1.166620e+06  67888.000000\n",
              "\n",
              "[8 rows x 16 columns]"
            ]
          },
          "metadata": {
            "tags": []
          },
          "execution_count": 6
        }
      ]
    },
    {
      "cell_type": "code",
      "metadata": {
        "colab": {
          "base_uri": "https://localhost:8080/"
        },
        "id": "XULiKqIvEdgp",
        "outputId": "7baa14a1-19a4-4f42-b5b7-2b571781caca"
      },
      "source": [
        "# Show data.shape\n",
        "df.shape"
      ],
      "execution_count": 7,
      "outputs": [
        {
          "output_type": "execute_result",
          "data": {
            "text/plain": [
              "(1558, 17)"
            ]
          },
          "metadata": {
            "tags": []
          },
          "execution_count": 7
        }
      ]
    },
    {
      "cell_type": "markdown",
      "metadata": {
        "id": "LYVBsWpr67I9"
      },
      "source": [
        "***************\n",
        "***************\n",
        "# **Visualizing data**\n",
        "\n",
        "The initial dataset is pretty clear, but let's go ahead and tidy it up a bit by simplifying and adjusting our dataset's variables so they're easier to understand.\n",
        "\n",
        "\n"
      ]
    },
    {
      "cell_type": "code",
      "metadata": {
        "id": "gCHhvrKALA61"
      },
      "source": [
        "# Cleaning up the variable names so they are easier to understand\n",
        "df.rename(columns={'name':'Username of Player'}, inplace=True)\n",
        "df.rename(columns={'wins':'Match Wins'}, inplace=True)\n",
        "df.rename(columns={'kills':'Match Kills'}, inplace=True)\n",
        "df.rename(columns={'kdRatio':'Kill/Death Ratio'}, inplace=True)\n",
        "df.rename(columns={'killstreak':'Kill Streak'}, inplace=True)\n",
        "df.rename(columns={'level':'Level'}, inplace=True)\n",
        "df.rename(columns={'losses':'Match Losses'}, inplace=True)\n",
        "df.rename(columns={'hits':'Enemy Hits'}, inplace=True)\n",
        "df.rename(columns={'timePlayed':'Hours Played'}, inplace=True)\n",
        "df.rename(columns={'headshots':'Headshots'}, inplace=True)\n",
        "df.rename(columns={'averageTime':'Average Hours Played per Day'}, inplace=True)\n",
        "df.rename(columns={'gamesPlayed':'Number of Multiplayer Matches Played'}, inplace=True)\n",
        "df.rename(columns={'assists':'Assisted Kills'}, inplace=True)\n",
        "df.rename(columns={'misses':'Missed Hits'}, inplace=True)\n",
        "df.rename(columns={'scorePerMinute':'Points Gained per Minute'}, inplace=True)\n",
        "df.rename(columns={'shots':'Shots Taken'}, inplace=True)\n",
        "df.rename(columns={'deaths':'Player Deaths'}, inplace=True)"
      ],
      "execution_count": 8,
      "outputs": []
    },
    {
      "cell_type": "markdown",
      "metadata": {
        "id": "c4eof9fdB2rY"
      },
      "source": [
        "First, I want to see just how long people typically spent playing Call of Duty per day. "
      ]
    },
    {
      "cell_type": "code",
      "metadata": {
        "id": "3GHgnZS266pq",
        "colab": {
          "base_uri": "https://localhost:8080/",
          "height": 313
        },
        "outputId": "01abb84a-43a1-4739-ebf5-2a6c55fefd17"
      },
      "source": [
        "# visualization 1\n",
        "# Creating a histogram based on number of players and their average hours spent playing CoD per day\n",
        "plt.hist(df[\"Average Hours Played per Day\"], bins=20, range = [0,24])\n",
        "plt.xlabel('Average Hours Played')\n",
        "plt.ylabel('Number of Players')\n",
        "plt.title('Average Amount of Hours Spent Playing Call of Duty per Day')"
      ],
      "execution_count": 9,
      "outputs": [
        {
          "output_type": "execute_result",
          "data": {
            "text/plain": [
              "Text(0.5, 1.0, 'Average Amount of Hours Spent Playing Call of Duty per Day')"
            ]
          },
          "metadata": {
            "tags": []
          },
          "execution_count": 9
        },
        {
          "output_type": "display_data",
          "data": {
            "image/png": "[encoded data removed]",
            "text/plain": [
              "<Figure size 432x288 with 1 Axes>"
            ]
          },
          "metadata": {
            "tags": [],
            "needs_background": "light"
          }
        }
      ]
    },
    {
      "cell_type": "markdown",
      "metadata": {
        "id": "QoqHO-V5CU_n"
      },
      "source": [
        "From the visual above, there are quite a lot of players who have 0 in-game hours. These are most likely players who have created an account in CoD but never actually played. \n",
        "\n",
        "To get a better visualizations for hours spent playing as well as getting more accurate analyses for our other tasks, we should remove all the players who haven't played the game."
      ]
    },
    {
      "cell_type": "code",
      "metadata": {
        "colab": {
          "base_uri": "https://localhost:8080/"
        },
        "id": "8NBhzC96EBN3",
        "outputId": "2ae8ee60-bc13-439b-e3e2-6f8a2d8259ed"
      },
      "source": [
        "# Drop any missing data for players with 0 in-game hours\n",
        "df.drop(df[df['Average Hours Played per Day'] < 1].index, inplace = True)\n",
        "\n",
        "df.shape"
      ],
      "execution_count": 10,
      "outputs": [
        {
          "output_type": "execute_result",
          "data": {
            "text/plain": [
              "(1348, 17)"
            ]
          },
          "metadata": {
            "tags": []
          },
          "execution_count": 10
        }
      ]
    },
    {
      "cell_type": "markdown",
      "metadata": {
        "id": "gvHfaycIEzXt"
      },
      "source": [
        "Now that we've dropped the missing player data, let's redo our first histogram again for hours spent playing CoD per day."
      ]
    },
    {
      "cell_type": "code",
      "metadata": {
        "colab": {
          "base_uri": "https://localhost:8080/",
          "height": 313
        },
        "id": "Ipfa_jYRE-9k",
        "outputId": "35951461-5388-431a-d627-563ddf3b204d"
      },
      "source": [
        "# visualization 1\n",
        "# Creating a histogram based on number of players and their average hours spent playing CoD per day\n",
        "plt.hist(df[\"Average Hours Played per Day\"], bins=20, range = [0,24])\n",
        "plt.xlabel('Average Hours Played')\n",
        "plt.ylabel('Number of Players')\n",
        "plt.title('Average Amount of Hours Spent Playing Call of Duty per Day')"
      ],
      "execution_count": 11,
      "outputs": [
        {
          "output_type": "execute_result",
          "data": {
            "text/plain": [
              "Text(0.5, 1.0, 'Average Amount of Hours Spent Playing Call of Duty per Day')"
            ]
          },
          "metadata": {
            "tags": []
          },
          "execution_count": 11
        },
        {
          "output_type": "display_data",
          "data": {
            "image/png": "[encoded data removed]",
            "text/plain": [
              "<Figure size 432x288 with 1 Axes>"
            ]
          },
          "metadata": {
            "tags": [],
            "needs_background": "light"
          }
        }
      ]
    },
    {
      "cell_type": "markdown",
      "metadata": {
        "id": "k8TOBLK2SH5i"
      },
      "source": [
        "Based on the visual above, it seems that most players spend around 2-3 hours per day playing CoD.\n",
        "\n",
        "For this next part, I want to know if the amount of match wins is associated with the total number of hours spent playing the game."
      ]
    },
    {
      "cell_type": "code",
      "metadata": {
        "id": "r1eaUiXt7Dzk",
        "colab": {
          "base_uri": "https://localhost:8080/",
          "height": 313
        },
        "outputId": "55bcaaef-3a38-4ba3-ab2d-52046828039f"
      },
      "source": [
        "# visualization 2\n",
        "# Creating a scatterplot for amount of matchs won by total hours played\n",
        "plt.scatter('Hours Played', 'Match Wins', data=df, color = 'crimson')\n",
        "plt.xlabel('Hours Played', fontsize='medium')\n",
        "plt.ylabel('Match Wins', fontsize='medium')\n",
        "plt.title(\"Match Wins by Total Number of Hours Spent Playing CoD\")"
      ],
      "execution_count": 12,
      "outputs": [
        {
          "output_type": "execute_result",
          "data": {
            "text/plain": [
              "Text(0.5, 1.0, 'Match Wins by Total Number of Hours Spent Playing CoD')"
            ]
          },
          "metadata": {
            "tags": []
          },
          "execution_count": 12
        },
        {
          "output_type": "display_data",
          "data": {
            "image/png": "[encoded data removed]",
            "text/plain": [
              "<Figure size 432x288 with 1 Axes>"
            ]
          },
          "metadata": {
            "tags": [],
            "needs_background": "light"
          }
        }
      ]
    },
    {
      "cell_type": "markdown",
      "metadata": {
        "id": "VEzZqCNXSvZg"
      },
      "source": [
        "It seems that match wins do increase as there are more hours dedicated to playing CoD.\n",
        "\n",
        "Now for this next visual, I want to check if the Kill/Death ratio is influenced by the total amount of hours played."
      ]
    },
    {
      "cell_type": "code",
      "metadata": {
        "id": "k9bM5YGS7FUb",
        "colab": {
          "base_uri": "https://localhost:8080/",
          "height": 313
        },
        "outputId": "470a125e-5e28-4280-ebd8-15fb25f7b1c8"
      },
      "source": [
        "# visualization 3\n",
        "# Creating a scatterplot for kill/death ratios by total hours played\n",
        "plt.scatter('Hours Played', 'Kill/Death Ratio', data=df, color = 'navy')\n",
        "plt.xlabel('Hours Played', fontsize='medium')\n",
        "plt.ylabel('Kill/Death Ratio', fontsize='medium');\n",
        "plt.title(\"Kill/Death Ratio by Total Number of Hours Spent Playing CoD\")"
      ],
      "execution_count": 13,
      "outputs": [
        {
          "output_type": "execute_result",
          "data": {
            "text/plain": [
              "Text(0.5, 1.0, 'Kill/Death Ratio by Total Number of Hours Spent Playing CoD')"
            ]
          },
          "metadata": {
            "tags": []
          },
          "execution_count": 13
        },
        {
          "output_type": "display_data",
          "data": {
            "image/png": "[encoded data removed]",
            "text/plain": [
              "<Figure size 432x288 with 1 Axes>"
            ]
          },
          "metadata": {
            "tags": [],
            "needs_background": "light"
          }
        }
      ]
    },
    {
      "cell_type": "markdown",
      "metadata": {
        "id": "ZI6WoEDnTRIp"
      },
      "source": [
        "Interesting! It doesn't seem like the total amount of hours played in CoD really affects how a person's kill/death ratio is. Seems like on average, most people have ratios around 1.0 despite having played a large amount or little amount of hours.\n",
        "\n",
        "Now I want to explore just what level these sort of players are. Since there's such a large range in which levels can be, I should separate levels into different tier ranks. \n",
        "I will be going by 4 different categories with different level ranges:\n",
        "\n",
        "*   Novice: Lvl 1-30\n",
        "*   Intermediate: Lvl 30-85\n",
        "*   Advanced: Lvl 85-150\n",
        "*   Elite: Lvl 150+"
      ]
    },
    {
      "cell_type": "code",
      "metadata": {
        "id": "FjNzOSuQ7Gyw",
        "colab": {
          "base_uri": "https://localhost:8080/",
          "height": 313
        },
        "outputId": "725f251a-f656-4f27-cadb-9af8d3ebb5b5"
      },
      "source": [
        "# visualization 4\n",
        "# Reorganizing levels into tiers to better view the data\n",
        "novice = df[df.Level<=30]\n",
        "intermediate = df[(df.Level>30) & (df.Level<=85)]\n",
        "advanced = df[(df.Level>85) & (df.Level<=150)]\n",
        "elite = df[df.Level>150]\n",
        "\n",
        "# Generating a bar chart\n",
        "var1=plt.bar('Novice',novice.count())\n",
        "var2=plt.bar('Intermediate',intermediate.count())\n",
        "var3=plt.bar('Advanced',advanced.count())\n",
        "var4=plt.bar('Elite',elite.count())\n",
        "plt.xlabel(\"Player Level\")\n",
        "plt.ylabel(\"Number of Players\")\n",
        "plt.title(\"Tier Levels of Players\")"
      ],
      "execution_count": 14,
      "outputs": [
        {
          "output_type": "execute_result",
          "data": {
            "text/plain": [
              "Text(0.5, 1.0, 'Tier Levels of Players')"
            ]
          },
          "metadata": {
            "tags": []
          },
          "execution_count": 14
        },
        {
          "output_type": "display_data",
          "data": {
            "image/png": "[encoded data removed]",
            "text/plain": [
              "<Figure size 432x288 with 1 Axes>"
            ]
          },
          "metadata": {
            "tags": [],
            "needs_background": "light"
          }
        }
      ]
    },
    {
      "cell_type": "markdown",
      "metadata": {
        "id": "UwNnWHDCX1Ej"
      },
      "source": [
        "This visual shows that there is a significant larger amount of novice players in comparison to intermediate, advanced, and elite. \n",
        "\n",
        "Let's see what the kill/ratio looks like within these tier levels"
      ]
    },
    {
      "cell_type": "code",
      "metadata": {
        "id": "FHe0b41j7IEP",
        "colab": {
          "base_uri": "https://localhost:8080/",
          "height": 350
        },
        "outputId": "2ce88df6-1dba-496b-963a-a2d420949251"
      },
      "source": [
        "# visualization 5\n",
        "# Creating a boxplot\n",
        "kdratio = [novice['Kill/Death Ratio'], intermediate['Kill/Death Ratio'], advanced['Kill/Death Ratio'], elite['Kill/Death Ratio']]\n",
        "fig, ax = plt.subplots()\n",
        "ax.boxplot(kdratio)\n",
        "ax.set_title('Kill/Death Ratio by Player Tier Level')\n",
        "ax.set_xlabel('Player Level')\n",
        "ax.set_ylabel('Kill/Death Ratio')\n",
        "ax.set_xticklabels(['Novice', 'Intermediate', 'Advanced', 'Elite'])\n",
        "plt.show()"
      ],
      "execution_count": 15,
      "outputs": [
        {
          "output_type": "stream",
          "text": [
            "/usr/local/lib/python3.7/dist-packages/numpy/core/_asarray.py:83: VisibleDeprecationWarning: Creating an ndarray from ragged nested sequences (which is a list-or-tuple of lists-or-tuples-or ndarrays with different lengths or shapes) is deprecated. If you meant to do this, you must specify 'dtype=object' when creating the ndarray\n",
            "  return array(a, dtype, copy=False, order=order)\n"
          ],
          "name": "stderr"
        },
        {
          "output_type": "display_data",
          "data": {
            "image/png": "[encoded data removed]",
            "text/plain": [
              "<Figure size 432x288 with 1 Axes>"
            ]
          },
          "metadata": {
            "tags": [],
            "needs_background": "light"
          }
        }
      ]
    },
    {
      "cell_type": "markdown",
      "metadata": {
        "id": "AiK9Ib8bcLe6"
      },
      "source": [
        "Not too surprising here, but it would appear that higher level players have better average kill/death ratios with less deviation.\n",
        "\n",
        "Now I'll be creating a confusion matrix to better see the correlations between match kills, enemy hits, headshots, assisted kills, missed hits, and shots taken."
      ]
    },
    {
      "cell_type": "code",
      "metadata": {
        "id": "ap9WwMmE7Jep",
        "colab": {
          "base_uri": "https://localhost:8080/",
          "height": 739
        },
        "outputId": "a7c135bb-db9e-4ed5-d4bf-1d0b21ad4426"
      },
      "source": [
        "# visualization 6\n",
        "# Creating a correlation matrix\n",
        "corr = df.corr()\n",
        "ax.matshow(corr, cmap=plt.get_cmap('Greens'))\n",
        "plt.figure(num=None, figsize=(6, 6), dpi=100, facecolor='w')\n",
        "corr_mat = plt.matshow(corr, fignum = 1)\n",
        "plt.xticks(range(len(corr.columns)), corr.columns, rotation=90)\n",
        "plt.yticks(range(len(corr.columns)), corr.columns)\n",
        "plt.gca().xaxis.tick_bottom()\n",
        "plt.colorbar(corr_mat)\n",
        "plt.title(f'Correlation Matrix for CoD: Modern Warfare', fontsize=12)\n",
        "plt.show()"
      ],
      "execution_count": 49,
      "outputs": [
        {
          "output_type": "display_data",
          "data": {
            "image/png": "[encoded data removed]",
            "text/plain": [
              "<Figure size 600x600 with 2 Axes>"
            ]
          },
          "metadata": {
            "tags": []
          }
        }
      ]
    },
    {
      "cell_type": "markdown",
      "metadata": {
        "id": "Auce80oG7whh"
      },
      "source": [
        "***************\n",
        "***************\n",
        "# **Feature Engineering**\n",
        "\n",
        "Here, I will do some feature enginerring to show whether or  not there is any missing data, duplicates, and outliers.\n",
        "\n",
        "For the first task of missing data, we've already removed players previously (in visualizations) who had 0 in-game hours because they did not actually play the game."
      ]
    },
    {
      "cell_type": "code",
      "metadata": {
        "id": "oSLwS2a08FDu",
        "colab": {
          "base_uri": "https://localhost:8080/"
        },
        "outputId": "71410e34-485d-4693-bd99-931337b89a6d"
      },
      "source": [
        "# Check and take care of null values\n",
        "dropped_rows = df.dropna()\n",
        "\n",
        "df.shape"
      ],
      "execution_count": 34,
      "outputs": [
        {
          "output_type": "execute_result",
          "data": {
            "text/plain": [
              "(1348, 17)"
            ]
          },
          "metadata": {
            "tags": []
          },
          "execution_count": 34
        }
      ]
    },
    {
      "cell_type": "markdown",
      "metadata": {
        "id": "LoCe-ZNPag6G"
      },
      "source": [
        "Next, I'll check for any duplicates players in the dataset and drop them if there any."
      ]
    },
    {
      "cell_type": "code",
      "metadata": {
        "id": "H-DfvqUp8H5Z",
        "colab": {
          "base_uri": "https://localhost:8080/"
        },
        "outputId": "f0cb4bab-a584-4b74-b684-d7f4f2b251e2"
      },
      "source": [
        "# Check and take care of string values\n",
        "# Dropping any duplicates in data\n",
        "df = df.drop_duplicates(subset=['Username of Player'])\n",
        "\n",
        "df.shape"
      ],
      "execution_count": 19,
      "outputs": [
        {
          "output_type": "execute_result",
          "data": {
            "text/plain": [
              "(1348, 17)"
            ]
          },
          "metadata": {
            "tags": []
          },
          "execution_count": 19
        }
      ]
    },
    {
      "cell_type": "markdown",
      "metadata": {
        "id": "Urwqxj6jao-C"
      },
      "source": [
        "Now, it's time to check for outliers remove any that are found."
      ]
    },
    {
      "cell_type": "code",
      "metadata": {
        "id": "PNAng6KF8K0h",
        "colab": {
          "base_uri": "https://localhost:8080/"
        },
        "outputId": "9153b11b-7160-42db-bd3d-84476129dfb9"
      },
      "source": [
        "# Check and take care of outliers\n",
        "# Computing IQR\n",
        "Q1 = df.quantile(0.25)\n",
        "Q3 = df.quantile(0.75)\n",
        "IQR = Q3 - Q1\n",
        "print(IQR)"
      ],
      "execution_count": 20,
      "outputs": [
        {
          "output_type": "stream",
          "text": [
            "Match Wins                                223.250000\n",
            "Match Kills                              4632.500000\n",
            "Kill/Death Ratio                            0.497302\n",
            "Kill Streak                                13.000000\n",
            "Level                                      62.250000\n",
            "Match Losses                                9.000000\n",
            "Enemy Hits                              12475.000000\n",
            "Hours Played                              607.750000\n",
            "Headshots                                 845.250000\n",
            "Average Hours Played per Day                9.650583\n",
            "Number of Multiplayer Matches Played      148.250000\n",
            "Assisted Kills                            795.750000\n",
            "Missed Hits                             55969.000000\n",
            "Points Gained per Minute                  234.554108\n",
            "Shots Taken                             68370.000000\n",
            "Player Deaths                            4949.250000\n",
            "dtype: float64\n"
          ],
          "name": "stdout"
        }
      ]
    },
    {
      "cell_type": "code",
      "metadata": {
        "colab": {
          "base_uri": "https://localhost:8080/",
          "height": 495
        },
        "id": "u5U0zLJ0a9we",
        "outputId": "6b2df2f7-8a1b-40d4-805f-1ff86c506770"
      },
      "source": [
        "# Removing outliers\n",
        "df[~((df < (Q1 - 1.5 * IQR)) |(df > (Q3 + 1.5 * IQR))).any(axis=1)]"
      ],
      "execution_count": 37,
      "outputs": [
        {
          "output_type": "execute_result",
          "data": {
            "text/html": [
              "<div>\n",
              "<style scoped>\n",
              "    .dataframe tbody tr th:only-of-type {\n",
              "        vertical-align: middle;\n",
              "    }\n",
              "\n",
              "    .dataframe tbody tr th {\n",
              "        vertical-align: top;\n",
              "    }\n",
              "\n",
              "    .dataframe thead th {\n",
              "        text-align: right;\n",
              "    }\n",
              "</style>\n",
              "<table border=\"1\" class=\"dataframe\">\n",
              "  <thead>\n",
              "    <tr style=\"text-align: right;\">\n",
              "      <th></th>\n",
              "      <th>Username of Player</th>\n",
              "      <th>Match Wins</th>\n",
              "      <th>Match Kills</th>\n",
              "      <th>Kill/Death Ratio</th>\n",
              "      <th>Kill Streak</th>\n",
              "      <th>Level</th>\n",
              "      <th>Match Losses</th>\n",
              "      <th>Enemy Hits</th>\n",
              "      <th>Hours Played</th>\n",
              "      <th>Headshots</th>\n",
              "      <th>Average Hours Played per Day</th>\n",
              "      <th>Number of Multiplayer Matches Played</th>\n",
              "      <th>Assisted Kills</th>\n",
              "      <th>Missed Hits</th>\n",
              "      <th>Points Gained per Minute</th>\n",
              "      <th>Shots Taken</th>\n",
              "      <th>Player Deaths</th>\n",
              "    </tr>\n",
              "  </thead>\n",
              "  <tbody>\n",
              "    <tr>\n",
              "      <th>210</th>\n",
              "      <td>McWiggins14#5533106</td>\n",
              "      <td>1</td>\n",
              "      <td>6</td>\n",
              "      <td>0.428571</td>\n",
              "      <td>1</td>\n",
              "      <td>1</td>\n",
              "      <td>0</td>\n",
              "      <td>29</td>\n",
              "      <td>1</td>\n",
              "      <td>1</td>\n",
              "      <td>1.000000</td>\n",
              "      <td>0</td>\n",
              "      <td>1</td>\n",
              "      <td>96</td>\n",
              "      <td>226.200000</td>\n",
              "      <td>125</td>\n",
              "      <td>14</td>\n",
              "    </tr>\n",
              "    <tr>\n",
              "      <th>211</th>\n",
              "      <td>clastic_skyline#2465354</td>\n",
              "      <td>1</td>\n",
              "      <td>1</td>\n",
              "      <td>0.500000</td>\n",
              "      <td>0</td>\n",
              "      <td>1</td>\n",
              "      <td>0</td>\n",
              "      <td>0</td>\n",
              "      <td>1</td>\n",
              "      <td>0</td>\n",
              "      <td>1.000000</td>\n",
              "      <td>0</td>\n",
              "      <td>0</td>\n",
              "      <td>0</td>\n",
              "      <td>0.000000</td>\n",
              "      <td>0</td>\n",
              "      <td>2</td>\n",
              "    </tr>\n",
              "    <tr>\n",
              "      <th>212</th>\n",
              "      <td>nicocrack120#3055300</td>\n",
              "      <td>1</td>\n",
              "      <td>0</td>\n",
              "      <td>0.000000</td>\n",
              "      <td>0</td>\n",
              "      <td>1</td>\n",
              "      <td>0</td>\n",
              "      <td>0</td>\n",
              "      <td>1</td>\n",
              "      <td>0</td>\n",
              "      <td>1.000000</td>\n",
              "      <td>0</td>\n",
              "      <td>0</td>\n",
              "      <td>0</td>\n",
              "      <td>0.000000</td>\n",
              "      <td>0</td>\n",
              "      <td>2</td>\n",
              "    </tr>\n",
              "    <tr>\n",
              "      <th>213</th>\n",
              "      <td>S1806Oliver#3355454</td>\n",
              "      <td>1</td>\n",
              "      <td>0</td>\n",
              "      <td>0.000000</td>\n",
              "      <td>0</td>\n",
              "      <td>1</td>\n",
              "      <td>0</td>\n",
              "      <td>0</td>\n",
              "      <td>1</td>\n",
              "      <td>0</td>\n",
              "      <td>1.000000</td>\n",
              "      <td>0</td>\n",
              "      <td>0</td>\n",
              "      <td>0</td>\n",
              "      <td>0.000000</td>\n",
              "      <td>0</td>\n",
              "      <td>2</td>\n",
              "    </tr>\n",
              "    <tr>\n",
              "      <th>214</th>\n",
              "      <td>Not-yan333#8399938</td>\n",
              "      <td>1</td>\n",
              "      <td>3</td>\n",
              "      <td>1.500000</td>\n",
              "      <td>0</td>\n",
              "      <td>1</td>\n",
              "      <td>0</td>\n",
              "      <td>0</td>\n",
              "      <td>1</td>\n",
              "      <td>0</td>\n",
              "      <td>1.000000</td>\n",
              "      <td>0</td>\n",
              "      <td>0</td>\n",
              "      <td>0</td>\n",
              "      <td>0.000000</td>\n",
              "      <td>0</td>\n",
              "      <td>2</td>\n",
              "    </tr>\n",
              "    <tr>\n",
              "      <th>...</th>\n",
              "      <td>...</td>\n",
              "      <td>...</td>\n",
              "      <td>...</td>\n",
              "      <td>...</td>\n",
              "      <td>...</td>\n",
              "      <td>...</td>\n",
              "      <td>...</td>\n",
              "      <td>...</td>\n",
              "      <td>...</td>\n",
              "      <td>...</td>\n",
              "      <td>...</td>\n",
              "      <td>...</td>\n",
              "      <td>...</td>\n",
              "      <td>...</td>\n",
              "      <td>...</td>\n",
              "      <td>...</td>\n",
              "      <td>...</td>\n",
              "    </tr>\n",
              "    <tr>\n",
              "      <th>1366</th>\n",
              "      <td>_Loki_23#6617235</td>\n",
              "      <td>224</td>\n",
              "      <td>6840</td>\n",
              "      <td>0.721747</td>\n",
              "      <td>19</td>\n",
              "      <td>137</td>\n",
              "      <td>7</td>\n",
              "      <td>22515</td>\n",
              "      <td>1399</td>\n",
              "      <td>1102</td>\n",
              "      <td>8.967949</td>\n",
              "      <td>156</td>\n",
              "      <td>1306</td>\n",
              "      <td>112017</td>\n",
              "      <td>80.906934</td>\n",
              "      <td>134532</td>\n",
              "      <td>9477</td>\n",
              "    </tr>\n",
              "    <tr>\n",
              "      <th>1373</th>\n",
              "      <td>Soriba_Ps#1553042</td>\n",
              "      <td>396</td>\n",
              "      <td>8376</td>\n",
              "      <td>0.979420</td>\n",
              "      <td>14</td>\n",
              "      <td>141</td>\n",
              "      <td>6</td>\n",
              "      <td>21631</td>\n",
              "      <td>1035</td>\n",
              "      <td>1361</td>\n",
              "      <td>5.750000</td>\n",
              "      <td>180</td>\n",
              "      <td>1524</td>\n",
              "      <td>87000</td>\n",
              "      <td>115.161739</td>\n",
              "      <td>108631</td>\n",
              "      <td>8552</td>\n",
              "    </tr>\n",
              "    <tr>\n",
              "      <th>1391</th>\n",
              "      <td>InsaneHorse#4943336</td>\n",
              "      <td>402</td>\n",
              "      <td>8388</td>\n",
              "      <td>0.868683</td>\n",
              "      <td>12</td>\n",
              "      <td>147</td>\n",
              "      <td>10</td>\n",
              "      <td>15559</td>\n",
              "      <td>1489</td>\n",
              "      <td>1493</td>\n",
              "      <td>8.048649</td>\n",
              "      <td>185</td>\n",
              "      <td>1405</td>\n",
              "      <td>86338</td>\n",
              "      <td>86.868234</td>\n",
              "      <td>101897</td>\n",
              "      <td>9656</td>\n",
              "    </tr>\n",
              "    <tr>\n",
              "      <th>1401</th>\n",
              "      <td>BArrrrrios</td>\n",
              "      <td>276</td>\n",
              "      <td>4790</td>\n",
              "      <td>0.970618</td>\n",
              "      <td>11</td>\n",
              "      <td>152</td>\n",
              "      <td>10</td>\n",
              "      <td>10384</td>\n",
              "      <td>1320</td>\n",
              "      <td>639</td>\n",
              "      <td>15.000000</td>\n",
              "      <td>88</td>\n",
              "      <td>811</td>\n",
              "      <td>49914</td>\n",
              "      <td>44.192727</td>\n",
              "      <td>60298</td>\n",
              "      <td>4935</td>\n",
              "    </tr>\n",
              "    <tr>\n",
              "      <th>1406</th>\n",
              "      <td>Head a State#5469656</td>\n",
              "      <td>377</td>\n",
              "      <td>5312</td>\n",
              "      <td>1.170302</td>\n",
              "      <td>14</td>\n",
              "      <td>155</td>\n",
              "      <td>8</td>\n",
              "      <td>10368</td>\n",
              "      <td>1309</td>\n",
              "      <td>752</td>\n",
              "      <td>8.232704</td>\n",
              "      <td>159</td>\n",
              "      <td>556</td>\n",
              "      <td>46957</td>\n",
              "      <td>61.200458</td>\n",
              "      <td>57325</td>\n",
              "      <td>4539</td>\n",
              "    </tr>\n",
              "  </tbody>\n",
              "</table>\n",
              "<p>880 rows × 17 columns</p>\n",
              "</div>"
            ],
            "text/plain": [
              "           Username of Player  Match Wins  ...  Shots Taken  Player Deaths\n",
              "210       McWiggins14#5533106           1  ...          125             14\n",
              "211   clastic_skyline#2465354           1  ...            0              2\n",
              "212      nicocrack120#3055300           1  ...            0              2\n",
              "213       S1806Oliver#3355454           1  ...            0              2\n",
              "214        Not-yan333#8399938           1  ...            0              2\n",
              "...                       ...         ...  ...          ...            ...\n",
              "1366         _Loki_23#6617235         224  ...       134532           9477\n",
              "1373        Soriba_Ps#1553042         396  ...       108631           8552\n",
              "1391      InsaneHorse#4943336         402  ...       101897           9656\n",
              "1401               BArrrrrios         276  ...        60298           4935\n",
              "1406     Head a State#5469656         377  ...        57325           4539\n",
              "\n",
              "[880 rows x 17 columns]"
            ]
          },
          "metadata": {
            "tags": []
          },
          "execution_count": 37
        }
      ]
    },
    {
      "cell_type": "markdown",
      "metadata": {
        "id": "Km4_M_-pbq2Y"
      },
      "source": [
        "Looks like there was quite a lot of outliers in the dataset. I have now removed them from the data."
      ]
    },
    {
      "cell_type": "markdown",
      "metadata": {
        "id": "tCAIFvyj8ULA"
      },
      "source": [
        "***************\n",
        "***************\n",
        "# **Analysis section**\n",
        "\n",
        "For this section, I will be using Random forest as binary classification to make probabilistic observations of the Call of Duty dataset.\n",
        "\n",
        "First I need to split features and targets.\n",
        "\n",
        "\n",
        "\n"
      ]
    },
    {
      "cell_type": "code",
      "metadata": {
        "id": "yojYKLfcTjdi",
        "colab": {
          "base_uri": "https://localhost:8080/"
        },
        "outputId": "5c5035ec-1d57-498e-a6f9-e45fc993180b"
      },
      "source": [
        "# Machine Learning 1\n",
        "# Split into features and target\n",
        "Y = df['Match Kills']\n",
        "train_predictor_columns = ['Enemy Hits', 'Headshots', 'Assisted Kills', 'Missed Hits', 'Shots Taken']\n",
        "X = df[train_predictor_columns]\n",
        "\n",
        "# Split features and target into train and test sets\n",
        "X_train, X_test, Y_train, Y_test = train_test_split(X, Y, test_size=0.15, random_state=42)\n",
        "\n",
        "# Fit the RandomForestClassifier\n",
        "forest = RandomForestClassifier(n_estimators=100, random_state=1)\n",
        "forest.fit(X_train, Y_train)\n",
        "\n",
        "# Make predictions and probabilities for the test set\n",
        "Y_pred = forest.predict(X_test)\n",
        "Y_prob = forest.predict_proba(X_test)[:, 1]\n",
        "\n",
        "# View confusion matrix for test data and predictions\n",
        "confusion_matrix(Y_test, Y_pred)"
      ],
      "execution_count": 38,
      "outputs": [
        {
          "output_type": "execute_result",
          "data": {
            "text/plain": [
              "array([[8, 0, 0, ..., 0, 0, 0],\n",
              "       [9, 1, 0, ..., 0, 0, 0],\n",
              "       [3, 0, 0, ..., 0, 0, 0],\n",
              "       ...,\n",
              "       [0, 0, 0, ..., 0, 0, 0],\n",
              "       [0, 0, 0, ..., 1, 0, 0],\n",
              "       [0, 0, 0, ..., 0, 0, 0]])"
            ]
          },
          "metadata": {
            "tags": []
          },
          "execution_count": 38
        }
      ]
    },
    {
      "cell_type": "markdown",
      "metadata": {
        "id": "O5owEEQVcKLU"
      },
      "source": [
        "Using these, I can determine the random forest score."
      ]
    },
    {
      "cell_type": "code",
      "metadata": {
        "colab": {
          "base_uri": "https://localhost:8080/"
        },
        "id": "stQhuv2BAnou",
        "outputId": "1c0ef6a9-6fb1-4c6a-e9b7-91d176bc20f8"
      },
      "source": [
        "# Random forest score\n",
        "print(\"Random forest score :\", forest.score(X_test, Y_test))"
      ],
      "execution_count": 39,
      "outputs": [
        {
          "output_type": "stream",
          "text": [
            "Random forest score : 0.06403940886699508\n"
          ],
          "name": "stdout"
        }
      ]
    },
    {
      "cell_type": "markdown",
      "metadata": {
        "id": "mxOWHZQScMWx"
      },
      "source": [
        "Next, I'll check on my predictions using the Random Forest Regressor."
      ]
    },
    {
      "cell_type": "code",
      "metadata": {
        "colab": {
          "base_uri": "https://localhost:8080/"
        },
        "id": "GoHiSy1SAsKD",
        "outputId": "9844df57-9fbb-4147-f612-80873767c9ea"
      },
      "source": [
        "# Fit RandomForestRegressor\n",
        "my_model = RandomForestRegressor()\n",
        "my_model.fit(X_train, Y_train)\n",
        "\n",
        "# Test\n",
        "X_test = df[train_predictor_columns]\n",
        "\n",
        "# Print predictions\n",
        "Y_pred_test = my_model.predict(X_test)\n",
        "print(Y_pred_test)"
      ],
      "execution_count": 40,
      "outputs": [
        {
          "output_type": "stream",
          "text": [
            "[6.50000000e+00 1.61185208e+00 1.61185208e+00 ... 3.19898300e+04\n",
            " 2.06696200e+04 4.86391900e+04]\n"
          ],
          "name": "stdout"
        }
      ]
    },
    {
      "cell_type": "markdown",
      "metadata": {
        "id": "LTzG9e7icTM2"
      },
      "source": [
        "I should then calculate for the Receiver Operating Characteristics and Area Under The Curve."
      ]
    },
    {
      "cell_type": "code",
      "metadata": {
        "colab": {
          "base_uri": "https://localhost:8080/",
          "height": 322
        },
        "id": "1j9kqws0WfTA",
        "outputId": "cf32a0f7-62fc-4b87-9c5a-eb434fdc9036"
      },
      "source": [
        "# Calculating ROC AUC Score\n",
        "roc_value = roc_auc_score(Y_test, Y_prob)"
      ],
      "execution_count": 33,
      "outputs": [
        {
          "output_type": "error",
          "ename": "ValueError",
          "evalue": "ignored",
          "traceback": [
            "\u001b[0;31m---------------------------------------------------------------------------\u001b[0m",
            "\u001b[0;31mValueError\u001b[0m                                Traceback (most recent call last)",
            "\u001b[0;32m<ipython-input-33-d095bb4d31c5>\u001b[0m in \u001b[0;36m<module>\u001b[0;34m()\u001b[0m\n\u001b[1;32m      1\u001b[0m \u001b[0;31m# Calculating ROC AUC Score\u001b[0m\u001b[0;34m\u001b[0m\u001b[0;34m\u001b[0m\u001b[0;34m\u001b[0m\u001b[0m\n\u001b[0;32m----> 2\u001b[0;31m \u001b[0mroc_value\u001b[0m \u001b[0;34m=\u001b[0m \u001b[0mroc_auc_score\u001b[0m\u001b[0;34m(\u001b[0m\u001b[0mY_test\u001b[0m\u001b[0;34m,\u001b[0m \u001b[0mY_prob\u001b[0m\u001b[0;34m)\u001b[0m\u001b[0;34m\u001b[0m\u001b[0;34m\u001b[0m\u001b[0m\n\u001b[0m",
            "\u001b[0;32m/usr/local/lib/python3.7/dist-packages/sklearn/metrics/_ranking.py\u001b[0m in \u001b[0;36mroc_auc_score\u001b[0;34m(y_true, y_score, average, sample_weight, max_fpr, multi_class, labels)\u001b[0m\n\u001b[1;32m    379\u001b[0m                              \"instead\".format(max_fpr))\n\u001b[1;32m    380\u001b[0m         \u001b[0;32mif\u001b[0m \u001b[0mmulti_class\u001b[0m \u001b[0;34m==\u001b[0m \u001b[0;34m'raise'\u001b[0m\u001b[0;34m:\u001b[0m\u001b[0;34m\u001b[0m\u001b[0;34m\u001b[0m\u001b[0m\n\u001b[0;32m--> 381\u001b[0;31m             \u001b[0;32mraise\u001b[0m \u001b[0mValueError\u001b[0m\u001b[0;34m(\u001b[0m\u001b[0;34m\"multi_class must be in ('ovo', 'ovr')\"\u001b[0m\u001b[0;34m)\u001b[0m\u001b[0;34m\u001b[0m\u001b[0;34m\u001b[0m\u001b[0m\n\u001b[0m\u001b[1;32m    382\u001b[0m         return _multiclass_roc_auc_score(y_true, y_score, labels,\n\u001b[1;32m    383\u001b[0m                                          multi_class, average, sample_weight)\n",
            "\u001b[0;31mValueError\u001b[0m: multi_class must be in ('ovo', 'ovr')"
          ]
        }
      ]
    },
    {
      "cell_type": "markdown",
      "metadata": {
        "id": "9DYTQn_Icj2j"
      },
      "source": [
        "Uh oh. It seems there is an error in my coding. I'm having some trouble with determining the ROC AOC values due to a multi_class error."
      ]
    },
    {
      "cell_type": "code",
      "metadata": {
        "colab": {
          "base_uri": "https://localhost:8080/"
        },
        "id": "55KyCisIAzZy",
        "outputId": "75d59f50-f8d2-45aa-c183-ca649c980ea8"
      },
      "source": [
        "# View the classification report to see accuracy and F-1\n",
        "print(classification_report(Y_test, Y_pred))"
      ],
      "execution_count": 41,
      "outputs": [
        {
          "output_type": "stream",
          "text": [
            "              precision    recall  f1-score   support\n",
            "\n",
            "           0       0.32      1.00      0.48         8\n",
            "           1       0.33      0.09      0.14        11\n",
            "           2       0.00      0.00      0.00         5\n",
            "           3       0.11      0.50      0.18         2\n",
            "           4       0.00      0.00      0.00         3\n",
            "           5       0.25      0.33      0.29         3\n",
            "           6       0.50      0.33      0.40         3\n",
            "           7       0.00      0.00      0.00         3\n",
            "           8       0.00      0.00      0.00         1\n",
            "           9       0.00      0.00      0.00         1\n",
            "          11       0.00      0.00      0.00         3\n",
            "          12       0.00      0.00      0.00         1\n",
            "          13       0.00      0.00      0.00         1\n",
            "          15       0.00      0.00      0.00         0\n",
            "          16       0.00      0.00      0.00         2\n",
            "          19       0.00      0.00      0.00         1\n",
            "          21       0.00      0.00      0.00         0\n",
            "          22       0.00      0.00      0.00         0\n",
            "          23       0.00      0.00      0.00         1\n",
            "          26       0.00      0.00      0.00         0\n",
            "          27       0.00      0.00      0.00         1\n",
            "          28       0.00      0.00      0.00         1\n",
            "          29       0.00      0.00      0.00         2\n",
            "          30       0.00      0.00      0.00         1\n",
            "          31       0.00      0.00      0.00         1\n",
            "          34       0.00      0.00      0.00         0\n",
            "          35       1.00      0.50      0.67         2\n",
            "          36       0.00      0.00      0.00         1\n",
            "          41       0.00      0.00      0.00         0\n",
            "          42       0.00      0.00      0.00         0\n",
            "          43       0.00      0.00      0.00         1\n",
            "          44       0.00      0.00      0.00         0\n",
            "          45       0.00      0.00      0.00         1\n",
            "          46       0.00      0.00      0.00         1\n",
            "          48       0.00      0.00      0.00         1\n",
            "          49       0.00      0.00      0.00         0\n",
            "          50       0.00      0.00      0.00         1\n",
            "          51       0.00      0.00      0.00         0\n",
            "          54       0.00      0.00      0.00         0\n",
            "          58       0.00      0.00      0.00         1\n",
            "          59       0.00      0.00      0.00         0\n",
            "          60       0.00      0.00      0.00         1\n",
            "          61       0.00      0.00      0.00         1\n",
            "          63       0.00      0.00      0.00         0\n",
            "          65       0.00      0.00      0.00         1\n",
            "          68       0.00      0.00      0.00         1\n",
            "          72       0.00      0.00      0.00         0\n",
            "          73       0.00      0.00      0.00         0\n",
            "          74       0.00      0.00      0.00         1\n",
            "          75       0.00      0.00      0.00         0\n",
            "          76       0.00      0.00      0.00         0\n",
            "          77       0.00      0.00      0.00         1\n",
            "          81       0.00      0.00      0.00         0\n",
            "          82       0.00      0.00      0.00         0\n",
            "          87       0.00      0.00      0.00         1\n",
            "          89       0.00      0.00      0.00         0\n",
            "          90       0.00      0.00      0.00         1\n",
            "          93       0.00      0.00      0.00         0\n",
            "          98       0.00      0.00      0.00         1\n",
            "         105       0.00      0.00      0.00         1\n",
            "         111       0.00      0.00      0.00         1\n",
            "         118       0.00      0.00      0.00         1\n",
            "         119       0.00      0.00      0.00         0\n",
            "         121       0.00      0.00      0.00         1\n",
            "         127       0.00      0.00      0.00         0\n",
            "         130       0.00      0.00      0.00         0\n",
            "         133       0.00      0.00      0.00         1\n",
            "         134       0.00      0.00      0.00         1\n",
            "         136       0.00      0.00      0.00         1\n",
            "         137       0.00      0.00      0.00         0\n",
            "         140       0.00      0.00      0.00         0\n",
            "         142       0.00      0.00      0.00         1\n",
            "         147       0.00      0.00      0.00         1\n",
            "         150       0.00      0.00      0.00         0\n",
            "         153       0.00      0.00      0.00         1\n",
            "         159       0.00      0.00      0.00         0\n",
            "         177       0.00      0.00      0.00         1\n",
            "         178       0.00      0.00      0.00         0\n",
            "         181       0.00      0.00      0.00         0\n",
            "         184       0.00      0.00      0.00         0\n",
            "         193       0.00      0.00      0.00         0\n",
            "         195       0.00      0.00      0.00         1\n",
            "         196       0.00      0.00      0.00         0\n",
            "         220       0.00      0.00      0.00         1\n",
            "         222       0.00      0.00      0.00         2\n",
            "         225       0.00      0.00      0.00         0\n",
            "         229       0.00      0.00      0.00         1\n",
            "         238       0.00      0.00      0.00         0\n",
            "         242       0.00      0.00      0.00         1\n",
            "         249       0.00      0.00      0.00         1\n",
            "         251       0.00      0.00      0.00         1\n",
            "         259       0.00      0.00      0.00         0\n",
            "         264       0.00      0.00      0.00         0\n",
            "         268       0.00      0.00      0.00         0\n",
            "         270       0.00      0.00      0.00         1\n",
            "         273       0.00      0.00      0.00         1\n",
            "         277       0.00      0.00      0.00         0\n",
            "         279       0.00      0.00      0.00         1\n",
            "         281       0.00      0.00      0.00         0\n",
            "         291       0.00      0.00      0.00         0\n",
            "         292       0.00      0.00      0.00         0\n",
            "         297       0.00      0.00      0.00         1\n",
            "         304       0.00      0.00      0.00         1\n",
            "         316       0.00      0.00      0.00         1\n",
            "         344       0.00      0.00      0.00         1\n",
            "         362       0.00      0.00      0.00         0\n",
            "         363       0.00      0.00      0.00         0\n",
            "         364       0.00      0.00      0.00         1\n",
            "         386       0.00      0.00      0.00         1\n",
            "         406       0.00      0.00      0.00         1\n",
            "         414       0.00      0.00      0.00         1\n",
            "         424       0.00      0.00      0.00         1\n",
            "         433       0.00      0.00      0.00         1\n",
            "         449       0.00      0.00      0.00         0\n",
            "         473       0.00      0.00      0.00         0\n",
            "         478       0.00      0.00      0.00         1\n",
            "         501       0.00      0.00      0.00         1\n",
            "         533       0.00      0.00      0.00         1\n",
            "         576       0.00      0.00      0.00         1\n",
            "         585       0.00      0.00      0.00         1\n",
            "         596       0.00      0.00      0.00         1\n",
            "         597       0.00      0.00      0.00         0\n",
            "         606       0.00      0.00      0.00         0\n",
            "         610       0.00      0.00      0.00         1\n",
            "         620       0.00      0.00      0.00         0\n",
            "         640       0.00      0.00      0.00         0\n",
            "         649       0.00      0.00      0.00         0\n",
            "         682       0.00      0.00      0.00         0\n",
            "         698       0.00      0.00      0.00         0\n",
            "         704       0.00      0.00      0.00         0\n",
            "         714       0.00      0.00      0.00         1\n",
            "         717       0.00      0.00      0.00         0\n",
            "         726       0.00      0.00      0.00         1\n",
            "         737       0.00      0.00      0.00         1\n",
            "         742       0.00      0.00      0.00         1\n",
            "         773       0.00      0.00      0.00         0\n",
            "         820       0.00      0.00      0.00         0\n",
            "         852       0.00      0.00      0.00         0\n",
            "         880       0.00      0.00      0.00         1\n",
            "         900       0.00      0.00      0.00         1\n",
            "         918       0.00      0.00      0.00         1\n",
            "         989       0.00      0.00      0.00         1\n",
            "         997       0.00      0.00      0.00         0\n",
            "        1008       0.00      0.00      0.00         0\n",
            "        1018       0.00      0.00      0.00         1\n",
            "        1081       0.00      0.00      0.00         1\n",
            "        1194       0.00      0.00      0.00         1\n",
            "        1353       0.00      0.00      0.00         1\n",
            "        1405       0.00      0.00      0.00         0\n",
            "        1408       0.00      0.00      0.00         0\n",
            "        1436       0.00      0.00      0.00         1\n",
            "        1484       0.00      0.00      0.00         0\n",
            "        1487       0.00      0.00      0.00         1\n",
            "        1624       0.00      0.00      0.00         0\n",
            "        1764       0.00      0.00      0.00         1\n",
            "        1772       0.00      0.00      0.00         0\n",
            "        1813       0.00      0.00      0.00         0\n",
            "        1832       0.00      0.00      0.00         1\n",
            "        1848       0.00      0.00      0.00         1\n",
            "        1864       0.00      0.00      0.00         0\n",
            "        1954       0.00      0.00      0.00         0\n",
            "        1966       0.00      0.00      0.00         0\n",
            "        1968       0.00      0.00      0.00         0\n",
            "        1980       0.00      0.00      0.00         1\n",
            "        2041       0.00      0.00      0.00         1\n",
            "        2047       0.00      0.00      0.00         1\n",
            "        2180       0.00      0.00      0.00         1\n",
            "        2197       0.00      0.00      0.00         1\n",
            "        2306       0.00      0.00      0.00         0\n",
            "        2334       0.00      0.00      0.00         1\n",
            "        2379       0.00      0.00      0.00         1\n",
            "        2430       0.00      0.00      0.00         0\n",
            "        2518       0.00      0.00      0.00         1\n",
            "        2740       0.00      0.00      0.00         1\n",
            "        2750       0.00      0.00      0.00         0\n",
            "        2917       0.00      0.00      0.00         1\n",
            "        2928       0.00      0.00      0.00         1\n",
            "        2954       0.00      0.00      0.00         0\n",
            "        2972       0.00      0.00      0.00         1\n",
            "        2974       0.00      0.00      0.00         1\n",
            "        2981       0.00      0.00      0.00         1\n",
            "        3045       0.00      0.00      0.00         1\n",
            "        3106       0.00      0.00      0.00         1\n",
            "        3206       0.00      0.00      0.00         1\n",
            "        3230       0.00      0.00      0.00         0\n",
            "        3314       0.00      0.00      0.00         1\n",
            "        3402       0.00      0.00      0.00         0\n",
            "        3423       0.00      0.00      0.00         0\n",
            "        3452       0.00      0.00      0.00         1\n",
            "        3514       0.00      0.00      0.00         1\n",
            "        3581       0.00      0.00      0.00         1\n",
            "        3802       0.00      0.00      0.00         1\n",
            "        3843       0.00      0.00      0.00         0\n",
            "        3849       0.00      0.00      0.00         1\n",
            "        3979       0.00      0.00      0.00         0\n",
            "        3982       0.00      0.00      0.00         0\n",
            "        4030       0.00      0.00      0.00         0\n",
            "        4107       0.00      0.00      0.00         0\n",
            "        4327       0.00      0.00      0.00         0\n",
            "        4329       0.00      0.00      0.00         0\n",
            "        4339       0.00      0.00      0.00         1\n",
            "        4442       0.00      0.00      0.00         0\n",
            "        4455       0.00      0.00      0.00         1\n",
            "        4552       0.00      0.00      0.00         0\n",
            "        4611       0.00      0.00      0.00         0\n",
            "        4753       0.00      0.00      0.00         0\n",
            "        4774       0.00      0.00      0.00         0\n",
            "        4795       0.00      0.00      0.00         1\n",
            "        5174       0.00      0.00      0.00         1\n",
            "        5247       0.00      0.00      0.00         1\n",
            "        5367       0.00      0.00      0.00         1\n",
            "        5587       0.00      0.00      0.00         0\n",
            "        5604       0.00      0.00      0.00         0\n",
            "        5723       0.00      0.00      0.00         1\n",
            "        5894       0.00      0.00      0.00         1\n",
            "        6224       0.00      0.00      0.00         1\n",
            "        6285       0.00      0.00      0.00         0\n",
            "        6346       0.00      0.00      0.00         1\n",
            "        6455       0.00      0.00      0.00         1\n",
            "        6536       0.00      0.00      0.00         1\n",
            "        6598       0.00      0.00      0.00         1\n",
            "        6725       0.00      0.00      0.00         0\n",
            "        6840       0.00      0.00      0.00         1\n",
            "        6844       0.00      0.00      0.00         1\n",
            "        7019       0.00      0.00      0.00         1\n",
            "        7071       0.00      0.00      0.00         0\n",
            "        7130       0.00      0.00      0.00         0\n",
            "        7213       0.00      0.00      0.00         0\n",
            "        7482       0.00      0.00      0.00         1\n",
            "        7503       0.00      0.00      0.00         0\n",
            "        7512       0.00      0.00      0.00         0\n",
            "        7716       0.00      0.00      0.00         0\n",
            "        7890       0.00      0.00      0.00         1\n",
            "        8188       0.00      0.00      0.00         0\n",
            "        8376       0.00      0.00      0.00         0\n",
            "        8595       0.00      0.00      0.00         1\n",
            "        8597       0.00      0.00      0.00         0\n",
            "        8778       0.00      0.00      0.00         1\n",
            "        8796       0.00      0.00      0.00         1\n",
            "        8929       0.00      0.00      0.00         1\n",
            "        9013       0.00      0.00      0.00         0\n",
            "        9302       0.00      0.00      0.00         0\n",
            "        9637       0.00      0.00      0.00         1\n",
            "        9807       0.00      0.00      0.00         1\n",
            "       10070       0.00      0.00      0.00         0\n",
            "       10083       0.00      0.00      0.00         1\n",
            "       10366       0.00      0.00      0.00         1\n",
            "       10744       0.00      0.00      0.00         0\n",
            "       11175       0.00      0.00      0.00         1\n",
            "       11478       0.00      0.00      0.00         0\n",
            "       11707       0.00      0.00      0.00         1\n",
            "       12131       0.00      0.00      0.00         0\n",
            "       12157       0.00      0.00      0.00         0\n",
            "       12870       0.00      0.00      0.00         0\n",
            "       13127       0.00      0.00      0.00         1\n",
            "       14302       0.00      0.00      0.00         1\n",
            "       14339       0.00      0.00      0.00         1\n",
            "       15074       0.00      0.00      0.00         1\n",
            "       15605       0.00      0.00      0.00         1\n",
            "       16321       0.00      0.00      0.00         0\n",
            "       16338       0.00      0.00      0.00         0\n",
            "       16432       0.00      0.00      0.00         1\n",
            "       16556       0.00      0.00      0.00         1\n",
            "       16627       0.00      0.00      0.00         0\n",
            "       16882       0.00      0.00      0.00         1\n",
            "       16901       0.00      0.00      0.00         0\n",
            "       17065       0.00      0.00      0.00         0\n",
            "       17551       0.00      0.00      0.00         1\n",
            "       19526       0.00      0.00      0.00         1\n",
            "       19627       0.00      0.00      0.00         1\n",
            "       20435       0.00      0.00      0.00         0\n",
            "       20483       0.00      0.00      0.00         1\n",
            "       22246       0.00      0.00      0.00         0\n",
            "       22373       0.00      0.00      0.00         0\n",
            "       26085       0.00      0.00      0.00         1\n",
            "       26346       0.00      0.00      0.00         1\n",
            "       27011       0.00      0.00      0.00         0\n",
            "       27120       0.00      0.00      0.00         1\n",
            "       28873       0.00      0.00      0.00         0\n",
            "       30799       0.00      0.00      0.00         1\n",
            "       30820       0.00      0.00      0.00         0\n",
            "       31623       0.00      0.00      0.00         1\n",
            "       32059       0.00      0.00      0.00         1\n",
            "       34138       0.00      0.00      0.00         1\n",
            "       39064       0.00      0.00      0.00         0\n",
            "       40392       0.00      0.00      0.00         1\n",
            "       42762       0.00      0.00      0.00         1\n",
            "       44067       0.00      0.00      0.00         0\n",
            "       45764       0.00      0.00      0.00         1\n",
            "       51595       0.00      0.00      0.00         1\n",
            "\n",
            "    accuracy                           0.06       203\n",
            "   macro avg       0.01      0.01      0.01       203\n",
            "weighted avg       0.05      0.06      0.05       203\n",
            "\n"
          ],
          "name": "stdout"
        },
        {
          "output_type": "stream",
          "text": [
            "/usr/local/lib/python3.7/dist-packages/sklearn/metrics/_classification.py:1272: UndefinedMetricWarning: Precision and F-score are ill-defined and being set to 0.0 in labels with no predicted samples. Use `zero_division` parameter to control this behavior.\n",
            "  _warn_prf(average, modifier, msg_start, len(result))\n",
            "/usr/local/lib/python3.7/dist-packages/sklearn/metrics/_classification.py:1272: UndefinedMetricWarning: Recall and F-score are ill-defined and being set to 0.0 in labels with no true samples. Use `zero_division` parameter to control this behavior.\n",
            "  _warn_prf(average, modifier, msg_start, len(result))\n"
          ],
          "name": "stderr"
        }
      ]
    },
    {
      "cell_type": "markdown",
      "metadata": {
        "id": "V-OhAIU6c32U"
      },
      "source": [
        "Despite the setback with the ROC AOC values, I still was able to retrieve the accuracy and F-1 scores."
      ]
    },
    {
      "cell_type": "markdown",
      "metadata": {
        "id": "z_jtnE5A8aha"
      },
      "source": [
        "***************\n",
        "***************\n",
        "# **Conclusions**\n",
        "\n",
        "Based on the analyses made above, I can gauge how players in Call of Duty: Modern Warfare can improve their skills and peformance. In the second visualization of my scatterplot, I was able to determine  that there was a positive correlation in match wins by number of hours spent playing in-game total. This would suggest that as more hours were dedicated to playing the game, there was a higher chance of match wins. Yet, when it came to kill/death ratios, the amount of play time did not result in a large impact on the variable. In fact, most kill/death ratios fell upon an average of 1.0, suggesting that kill/death ratio didn't correlate with more time spent practicing or playing the game.\n",
        "\n",
        "When splitting the data into different tier levels: novice, intermediate, advanced, and elite, kill/death ratios did vary in medians and deviations. It seemed for novices, there wasa a wider range of ratios in comparison to players at  greater levels. This could be explained since newer players are not yet adjusted to the game and will vary greatly in their experiences wheras higher tier players are more adjusted to the game and therefore are more established, leaving less room for variety. \n",
        "\n",
        "In the correlation matrix, we can see there are some correlations across cetain variables. I wanted to explore how match wins andcorrelated to other factors. Match wins seemed to be strongly correlated the amount of match kills, enemy hits, assited kills, and level of the player. In order to win matches, it is expected that there should be a postivie correlation to kills and assists in order to secure victory. Level likely played a role due to increased experience from the player and more game time.\n",
        " \n",
        "There is a third varaible that presents itself as a contributing factor to skill level of players. Although it was examined that more hours spent playing correlated with more wins and kills, this is not necessarily becuse of more gained experience but rather it's only natural that the more hours one spends playing the game , the more matches they partake it, and the more potential there is to win one."
      ]
    }
  ]
}