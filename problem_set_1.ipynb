{
  "nbformat": 4,
  "nbformat_minor": 0,
  "metadata": {
    "colab": {
      "name": "Dang_Lisa_problem_set_1.ipynb",
      "provenance": [],
      "collapsed_sections": []
    },
    "kernelspec": {
      "name": "python3",
      "display_name": "Python 3"
    }
  },
  "cells": [
    {
      "cell_type": "markdown",
      "metadata": {
        "id": "9D75wHOuarZy"
      },
      "source": [
        "## Our libraries that we are importing:"
      ]
    },
    {
      "cell_type": "code",
      "metadata": {
        "id": "qhnmM-rVuIp8"
      },
      "source": [
        "# 1. Importing all the libraries necessary for this assignment\n",
        "import numpy as np\n",
        "import pandas as pd"
      ],
      "execution_count": 1,
      "outputs": []
    },
    {
      "cell_type": "markdown",
      "metadata": {
        "id": "sJuFNQfQvnxH"
      },
      "source": [
        "This is data from the last class. It includes the sum of the class' quizzes as points, the final exam grade as points, their final grade in the class as a percentage, whether they attended class or not, and their name (note: names were randomly generated). We are interested in the effect that attending class has on one’s grade."
      ]
    },
    {
      "cell_type": "markdown",
      "metadata": {
        "id": "YpWASQeCuOnn"
      },
      "source": [
        "### The dataset of the last class:"
      ]
    },
    {
      "cell_type": "code",
      "metadata": {
        "id": "Ub_POohmujfc",
        "colab": {
          "base_uri": "https://localhost:8080/",
          "height": 432
        },
        "outputId": "d9d8faac-bc71-456d-d16d-43c3b3b8c0bf"
      },
      "source": [
        "# 2a. Load the data using the following code\n",
        "print('-------------------------------- 2a --------------------------------')\n",
        "data = pd.read_csv('problem_set_1_data.csv')\n",
        "\n",
        "# Take a look at the class dataset\n",
        "data"
      ],
      "execution_count": 2,
      "outputs": [
        {
          "output_type": "stream",
          "text": [
            "-------------------------------- 2a --------------------------------\n"
          ],
          "name": "stdout"
        },
        {
          "output_type": "execute_result",
          "data": {
            "text/html": [
              "<div>\n",
              "<style scoped>\n",
              "    .dataframe tbody tr th:only-of-type {\n",
              "        vertical-align: middle;\n",
              "    }\n",
              "\n",
              "    .dataframe tbody tr th {\n",
              "        vertical-align: top;\n",
              "    }\n",
              "\n",
              "    .dataframe thead th {\n",
              "        text-align: right;\n",
              "    }\n",
              "</style>\n",
              "<table border=\"1\" class=\"dataframe\">\n",
              "  <thead>\n",
              "    <tr style=\"text-align: right;\">\n",
              "      <th></th>\n",
              "      <th>quizzes</th>\n",
              "      <th>attendedClass</th>\n",
              "      <th>finalgrade</th>\n",
              "      <th>final_EXAM</th>\n",
              "      <th>student</th>\n",
              "    </tr>\n",
              "  </thead>\n",
              "  <tbody>\n",
              "    <tr>\n",
              "      <th>0</th>\n",
              "      <td>78.50</td>\n",
              "      <td>1</td>\n",
              "      <td>99.38</td>\n",
              "      <td>46</td>\n",
              "      <td>Linnie Lietz</td>\n",
              "    </tr>\n",
              "    <tr>\n",
              "      <th>1</th>\n",
              "      <td>64.25</td>\n",
              "      <td>0</td>\n",
              "      <td>95.78</td>\n",
              "      <td>45</td>\n",
              "      <td>Mitch Mustain</td>\n",
              "    </tr>\n",
              "    <tr>\n",
              "      <th>2</th>\n",
              "      <td>76.75</td>\n",
              "      <td>0</td>\n",
              "      <td>97.42</td>\n",
              "      <td>41</td>\n",
              "      <td>Salina Chavera</td>\n",
              "    </tr>\n",
              "    <tr>\n",
              "      <th>3</th>\n",
              "      <td>69.00</td>\n",
              "      <td>1</td>\n",
              "      <td>92.50</td>\n",
              "      <td>38</td>\n",
              "      <td>Kimberely Conwell</td>\n",
              "    </tr>\n",
              "    <tr>\n",
              "      <th>4</th>\n",
              "      <td>64.00</td>\n",
              "      <td>0</td>\n",
              "      <td>92.50</td>\n",
              "      <td>39</td>\n",
              "      <td>Zack Burk</td>\n",
              "    </tr>\n",
              "    <tr>\n",
              "      <th>...</th>\n",
              "      <td>...</td>\n",
              "      <td>...</td>\n",
              "      <td>...</td>\n",
              "      <td>...</td>\n",
              "      <td>...</td>\n",
              "    </tr>\n",
              "    <tr>\n",
              "      <th>166</th>\n",
              "      <td>73.50</td>\n",
              "      <td>0</td>\n",
              "      <td>96.25</td>\n",
              "      <td>45</td>\n",
              "      <td>Dana Malta</td>\n",
              "    </tr>\n",
              "    <tr>\n",
              "      <th>167</th>\n",
              "      <td>75.50</td>\n",
              "      <td>0</td>\n",
              "      <td>98.13</td>\n",
              "      <td>44</td>\n",
              "      <td>Sixta Heyden</td>\n",
              "    </tr>\n",
              "    <tr>\n",
              "      <th>168</th>\n",
              "      <td>41.00</td>\n",
              "      <td>0</td>\n",
              "      <td>69.38</td>\n",
              "      <td>32</td>\n",
              "      <td>Brianne Broome</td>\n",
              "    </tr>\n",
              "    <tr>\n",
              "      <th>169</th>\n",
              "      <td>77.00</td>\n",
              "      <td>0</td>\n",
              "      <td>101.25</td>\n",
              "      <td>47</td>\n",
              "      <td>Elouise Weatherholt</td>\n",
              "    </tr>\n",
              "    <tr>\n",
              "      <th>170</th>\n",
              "      <td>72.00</td>\n",
              "      <td>0</td>\n",
              "      <td>92.81</td>\n",
              "      <td>38</td>\n",
              "      <td>Addie Maharaj</td>\n",
              "    </tr>\n",
              "  </tbody>\n",
              "</table>\n",
              "<p>171 rows × 5 columns</p>\n",
              "</div>"
            ],
            "text/plain": [
              "     quizzes  attendedClass  finalgrade  final_EXAM              student\n",
              "0      78.50              1       99.38          46         Linnie Lietz\n",
              "1      64.25              0       95.78          45        Mitch Mustain\n",
              "2      76.75              0       97.42          41       Salina Chavera\n",
              "3      69.00              1       92.50          38    Kimberely Conwell\n",
              "4      64.00              0       92.50          39            Zack Burk\n",
              "..       ...            ...         ...         ...                  ...\n",
              "166    73.50              0       96.25          45           Dana Malta\n",
              "167    75.50              0       98.13          44         Sixta Heyden\n",
              "168    41.00              0       69.38          32       Brianne Broome\n",
              "169    77.00              0      101.25          47  Elouise Weatherholt\n",
              "170    72.00              0       92.81          38        Addie Maharaj\n",
              "\n",
              "[171 rows x 5 columns]"
            ]
          },
          "metadata": {
            "tags": []
          },
          "execution_count": 2
        }
      ]
    },
    {
      "cell_type": "markdown",
      "metadata": {
        "id": "CRA6b9I-z6_f"
      },
      "source": [
        "Now that we've loaded in the dataset, let's go ahead and rename the columns to make the data a bit cleaner."
      ]
    },
    {
      "cell_type": "code",
      "metadata": {
        "colab": {
          "base_uri": "https://localhost:8080/",
          "height": 219
        },
        "id": "yHPZbaUQ0Rc-",
        "outputId": "996ab03f-49a4-46a0-cff6-affb869a7d75"
      },
      "source": [
        "# 2b. Rename the columns so that they are easier to understand\n",
        "print('----------------------------- 2b & 2c -----------------------------')\n",
        "data.rename(columns={'quizzes':'quiz_total'}, inplace=True)\n",
        "data.rename(columns={'attendedClass':'attended'}, inplace=True)\n",
        "data.rename(columns={'finalgrade':'final_grade'}, inplace=True)\n",
        "data.rename(columns={'final_EXAM':'final_exam'}, inplace=True)\n",
        "data.rename(columns={'student':'name'}, inplace=True)\n",
        "\n",
        "# 2c. Take a look at the dataset with the new column names at the start of the list\n",
        "data.head()"
      ],
      "execution_count": 3,
      "outputs": [
        {
          "output_type": "stream",
          "text": [
            "----------------------------- 2b & 2c -----------------------------\n"
          ],
          "name": "stdout"
        },
        {
          "output_type": "execute_result",
          "data": {
            "text/html": [
              "<div>\n",
              "<style scoped>\n",
              "    .dataframe tbody tr th:only-of-type {\n",
              "        vertical-align: middle;\n",
              "    }\n",
              "\n",
              "    .dataframe tbody tr th {\n",
              "        vertical-align: top;\n",
              "    }\n",
              "\n",
              "    .dataframe thead th {\n",
              "        text-align: right;\n",
              "    }\n",
              "</style>\n",
              "<table border=\"1\" class=\"dataframe\">\n",
              "  <thead>\n",
              "    <tr style=\"text-align: right;\">\n",
              "      <th></th>\n",
              "      <th>quiz_total</th>\n",
              "      <th>attended</th>\n",
              "      <th>final_grade</th>\n",
              "      <th>final_exam</th>\n",
              "      <th>name</th>\n",
              "    </tr>\n",
              "  </thead>\n",
              "  <tbody>\n",
              "    <tr>\n",
              "      <th>0</th>\n",
              "      <td>78.50</td>\n",
              "      <td>1</td>\n",
              "      <td>99.38</td>\n",
              "      <td>46</td>\n",
              "      <td>Linnie Lietz</td>\n",
              "    </tr>\n",
              "    <tr>\n",
              "      <th>1</th>\n",
              "      <td>64.25</td>\n",
              "      <td>0</td>\n",
              "      <td>95.78</td>\n",
              "      <td>45</td>\n",
              "      <td>Mitch Mustain</td>\n",
              "    </tr>\n",
              "    <tr>\n",
              "      <th>2</th>\n",
              "      <td>76.75</td>\n",
              "      <td>0</td>\n",
              "      <td>97.42</td>\n",
              "      <td>41</td>\n",
              "      <td>Salina Chavera</td>\n",
              "    </tr>\n",
              "    <tr>\n",
              "      <th>3</th>\n",
              "      <td>69.00</td>\n",
              "      <td>1</td>\n",
              "      <td>92.50</td>\n",
              "      <td>38</td>\n",
              "      <td>Kimberely Conwell</td>\n",
              "    </tr>\n",
              "    <tr>\n",
              "      <th>4</th>\n",
              "      <td>64.00</td>\n",
              "      <td>0</td>\n",
              "      <td>92.50</td>\n",
              "      <td>39</td>\n",
              "      <td>Zack Burk</td>\n",
              "    </tr>\n",
              "  </tbody>\n",
              "</table>\n",
              "</div>"
            ],
            "text/plain": [
              "   quiz_total  attended  final_grade  final_exam               name\n",
              "0       78.50         1        99.38          46       Linnie Lietz\n",
              "1       64.25         0        95.78          45      Mitch Mustain\n",
              "2       76.75         0        97.42          41     Salina Chavera\n",
              "3       69.00         1        92.50          38  Kimberely Conwell\n",
              "4       64.00         0        92.50          39          Zack Burk"
            ]
          },
          "metadata": {
            "tags": []
          },
          "execution_count": 3
        }
      ]
    },
    {
      "cell_type": "code",
      "metadata": {
        "colab": {
          "base_uri": "https://localhost:8080/",
          "height": 219
        },
        "id": "1FMSQTe717sg",
        "outputId": "8250e30c-05df-47bb-a3a9-05aa5f0554c1"
      },
      "source": [
        "# 2c. Take a look at the dataset with the new column names at the end of the list\n",
        "print('-------------------------------- 2c --------------------------------')\n",
        "data.tail()"
      ],
      "execution_count": 4,
      "outputs": [
        {
          "output_type": "stream",
          "text": [
            "-------------------------------- 2c --------------------------------\n"
          ],
          "name": "stdout"
        },
        {
          "output_type": "execute_result",
          "data": {
            "text/html": [
              "<div>\n",
              "<style scoped>\n",
              "    .dataframe tbody tr th:only-of-type {\n",
              "        vertical-align: middle;\n",
              "    }\n",
              "\n",
              "    .dataframe tbody tr th {\n",
              "        vertical-align: top;\n",
              "    }\n",
              "\n",
              "    .dataframe thead th {\n",
              "        text-align: right;\n",
              "    }\n",
              "</style>\n",
              "<table border=\"1\" class=\"dataframe\">\n",
              "  <thead>\n",
              "    <tr style=\"text-align: right;\">\n",
              "      <th></th>\n",
              "      <th>quiz_total</th>\n",
              "      <th>attended</th>\n",
              "      <th>final_grade</th>\n",
              "      <th>final_exam</th>\n",
              "      <th>name</th>\n",
              "    </tr>\n",
              "  </thead>\n",
              "  <tbody>\n",
              "    <tr>\n",
              "      <th>166</th>\n",
              "      <td>73.5</td>\n",
              "      <td>0</td>\n",
              "      <td>96.25</td>\n",
              "      <td>45</td>\n",
              "      <td>Dana Malta</td>\n",
              "    </tr>\n",
              "    <tr>\n",
              "      <th>167</th>\n",
              "      <td>75.5</td>\n",
              "      <td>0</td>\n",
              "      <td>98.13</td>\n",
              "      <td>44</td>\n",
              "      <td>Sixta Heyden</td>\n",
              "    </tr>\n",
              "    <tr>\n",
              "      <th>168</th>\n",
              "      <td>41.0</td>\n",
              "      <td>0</td>\n",
              "      <td>69.38</td>\n",
              "      <td>32</td>\n",
              "      <td>Brianne Broome</td>\n",
              "    </tr>\n",
              "    <tr>\n",
              "      <th>169</th>\n",
              "      <td>77.0</td>\n",
              "      <td>0</td>\n",
              "      <td>101.25</td>\n",
              "      <td>47</td>\n",
              "      <td>Elouise Weatherholt</td>\n",
              "    </tr>\n",
              "    <tr>\n",
              "      <th>170</th>\n",
              "      <td>72.0</td>\n",
              "      <td>0</td>\n",
              "      <td>92.81</td>\n",
              "      <td>38</td>\n",
              "      <td>Addie Maharaj</td>\n",
              "    </tr>\n",
              "  </tbody>\n",
              "</table>\n",
              "</div>"
            ],
            "text/plain": [
              "     quiz_total  attended  final_grade  final_exam                 name\n",
              "166        73.5         0        96.25          45           Dana Malta\n",
              "167        75.5         0        98.13          44         Sixta Heyden\n",
              "168        41.0         0        69.38          32       Brianne Broome\n",
              "169        77.0         0       101.25          47  Elouise Weatherholt\n",
              "170        72.0         0        92.81          38        Addie Maharaj"
            ]
          },
          "metadata": {
            "tags": []
          },
          "execution_count": 4
        }
      ]
    },
    {
      "cell_type": "markdown",
      "metadata": {
        "id": "loy5GiQF6P9p"
      },
      "source": [
        "Great! We have simplified the names of our columns. Let's summarize the basic information of the data in the class dataset."
      ]
    },
    {
      "cell_type": "code",
      "metadata": {
        "colab": {
          "base_uri": "https://localhost:8080/"
        },
        "id": "YXO-a9Eh2O48",
        "outputId": "fd998dea-df48-4089-e3c1-7379309b3693"
      },
      "source": [
        "# 2d. Now here is the summary of the basic information of the class data\n",
        "print('-------------------------------- 2d --------------------------------')\n",
        "data.info()"
      ],
      "execution_count": 5,
      "outputs": [
        {
          "output_type": "stream",
          "text": [
            "-------------------------------- 2d --------------------------------\n",
            "<class 'pandas.core.frame.DataFrame'>\n",
            "RangeIndex: 171 entries, 0 to 170\n",
            "Data columns (total 5 columns):\n",
            " #   Column       Non-Null Count  Dtype  \n",
            "---  ------       --------------  -----  \n",
            " 0   quiz_total   171 non-null    float64\n",
            " 1   attended     171 non-null    int64  \n",
            " 2   final_grade  171 non-null    float64\n",
            " 3   final_exam   171 non-null    int64  \n",
            " 4   name         171 non-null    object \n",
            "dtypes: float64(2), int64(2), object(1)\n",
            "memory usage: 6.8+ KB\n"
          ],
          "name": "stdout"
        }
      ]
    },
    {
      "cell_type": "markdown",
      "metadata": {
        "id": "8eTRDJ-t6_r_"
      },
      "source": [
        "Here is the more in-depth summary for the numeric values contained within the class data."
      ]
    },
    {
      "cell_type": "code",
      "metadata": {
        "colab": {
          "base_uri": "https://localhost:8080/",
          "height": 294
        },
        "id": "0yHT2Pa_5oG0",
        "outputId": "f1c8da61-3d5d-4671-a59f-ca785090b994"
      },
      "source": [
        "# 2d. Here is the descriptive summary of the class data of each column\n",
        "data.describe()"
      ],
      "execution_count": 6,
      "outputs": [
        {
          "output_type": "execute_result",
          "data": {
            "text/html": [
              "<div>\n",
              "<style scoped>\n",
              "    .dataframe tbody tr th:only-of-type {\n",
              "        vertical-align: middle;\n",
              "    }\n",
              "\n",
              "    .dataframe tbody tr th {\n",
              "        vertical-align: top;\n",
              "    }\n",
              "\n",
              "    .dataframe thead th {\n",
              "        text-align: right;\n",
              "    }\n",
              "</style>\n",
              "<table border=\"1\" class=\"dataframe\">\n",
              "  <thead>\n",
              "    <tr style=\"text-align: right;\">\n",
              "      <th></th>\n",
              "      <th>quiz_total</th>\n",
              "      <th>attended</th>\n",
              "      <th>final_grade</th>\n",
              "      <th>final_exam</th>\n",
              "    </tr>\n",
              "  </thead>\n",
              "  <tbody>\n",
              "    <tr>\n",
              "      <th>count</th>\n",
              "      <td>171.000000</td>\n",
              "      <td>171.000000</td>\n",
              "      <td>171.000000</td>\n",
              "      <td>171.000000</td>\n",
              "    </tr>\n",
              "    <tr>\n",
              "      <th>mean</th>\n",
              "      <td>69.131579</td>\n",
              "      <td>0.192982</td>\n",
              "      <td>91.855380</td>\n",
              "      <td>39.672515</td>\n",
              "    </tr>\n",
              "    <tr>\n",
              "      <th>std</th>\n",
              "      <td>9.488473</td>\n",
              "      <td>0.395798</td>\n",
              "      <td>9.487795</td>\n",
              "      <td>5.511304</td>\n",
              "    </tr>\n",
              "    <tr>\n",
              "      <th>min</th>\n",
              "      <td>0.000000</td>\n",
              "      <td>0.000000</td>\n",
              "      <td>2.500000</td>\n",
              "      <td>0.000000</td>\n",
              "    </tr>\n",
              "    <tr>\n",
              "      <th>25%</th>\n",
              "      <td>65.500000</td>\n",
              "      <td>0.000000</td>\n",
              "      <td>89.380000</td>\n",
              "      <td>37.000000</td>\n",
              "    </tr>\n",
              "    <tr>\n",
              "      <th>50%</th>\n",
              "      <td>72.000000</td>\n",
              "      <td>0.000000</td>\n",
              "      <td>93.130000</td>\n",
              "      <td>40.000000</td>\n",
              "    </tr>\n",
              "    <tr>\n",
              "      <th>75%</th>\n",
              "      <td>75.500000</td>\n",
              "      <td>0.000000</td>\n",
              "      <td>96.360000</td>\n",
              "      <td>44.000000</td>\n",
              "    </tr>\n",
              "    <tr>\n",
              "      <th>max</th>\n",
              "      <td>79.500000</td>\n",
              "      <td>1.000000</td>\n",
              "      <td>104.380000</td>\n",
              "      <td>49.000000</td>\n",
              "    </tr>\n",
              "  </tbody>\n",
              "</table>\n",
              "</div>"
            ],
            "text/plain": [
              "       quiz_total    attended  final_grade  final_exam\n",
              "count  171.000000  171.000000   171.000000  171.000000\n",
              "mean    69.131579    0.192982    91.855380   39.672515\n",
              "std      9.488473    0.395798     9.487795    5.511304\n",
              "min      0.000000    0.000000     2.500000    0.000000\n",
              "25%     65.500000    0.000000    89.380000   37.000000\n",
              "50%     72.000000    0.000000    93.130000   40.000000\n",
              "75%     75.500000    0.000000    96.360000   44.000000\n",
              "max     79.500000    1.000000   104.380000   49.000000"
            ]
          },
          "metadata": {
            "tags": []
          },
          "execution_count": 6
        }
      ]
    },
    {
      "cell_type": "markdown",
      "metadata": {
        "id": "PHCYriEe7PpM"
      },
      "source": [
        "Based on our summary above for the last class, we can tell the following:\n",
        "*   **Average of the Class' Total Quiz Scores**: 69.1 points (Highest being 79.5, Lowest being 0)\n",
        "*   **Did Students Attend Class?**: A majority did not attend class (due to 0.19 being the mean). \n",
        "*   **Average of the Class' Final Exam Score**: 39.7 points (out of 50)\n",
        "*   **Average Final Grade**: 91.9% (A-)\n",
        "\n"
      ]
    },
    {
      "cell_type": "markdown",
      "metadata": {
        "id": "yulJyRtuvRVp"
      },
      "source": [
        "## Subset the data by whether someone attended class:"
      ]
    },
    {
      "cell_type": "code",
      "metadata": {
        "colab": {
          "base_uri": "https://localhost:8080/"
        },
        "id": "Rn3aeX3LJkbI",
        "outputId": "31963515-fadd-415b-b196-315ce2c2411e"
      },
      "source": [
        "# 3a. Subset the 'attended' data\n",
        "attendance_subset = data['attended']\n",
        "\n",
        "# Selects the 'attended' column and displays the row values corresponding to that\n",
        "print('-------------------------------- 3a --------------------------------')\n",
        "attendance_subset.describe()"
      ],
      "execution_count": 7,
      "outputs": [
        {
          "output_type": "stream",
          "text": [
            "-------------------------------- 3a --------------------------------\n"
          ],
          "name": "stdout"
        },
        {
          "output_type": "execute_result",
          "data": {
            "text/plain": [
              "count    171.000000\n",
              "mean       0.192982\n",
              "std        0.395798\n",
              "min        0.000000\n",
              "25%        0.000000\n",
              "50%        0.000000\n",
              "75%        0.000000\n",
              "max        1.000000\n",
              "Name: attended, dtype: float64"
            ]
          },
          "metadata": {
            "tags": []
          },
          "execution_count": 7
        }
      ]
    },
    {
      "cell_type": "markdown",
      "metadata": {
        "id": "yPty5fn5JDLV"
      },
      "source": [
        "We're going to replace the values for \"attended\" so that the values make more sense. Each number corresponds with a specific value."
      ]
    },
    {
      "cell_type": "code",
      "metadata": {
        "colab": {
          "base_uri": "https://localhost:8080/",
          "height": 432
        },
        "id": "UvFguvuLHnh7",
        "outputId": "ffe8cbd2-ee27-4e5b-cf45-c13c9914f2cd"
      },
      "source": [
        "# 3b. Replace current '1' and '0' values with 'Yes' and 'No' to clarify the data better\n",
        "data_bool = data['attended'].replace({1: 'Yes', 0: 'No'})\n",
        "data['attended'] = data_bool.replace({1: 'Yes', 0: 'No'})\n",
        "\n",
        "# Check the new data values\n",
        "print('-------------------------------- 3b --------------------------------')\n",
        "data[['attended', 'name']]"
      ],
      "execution_count": 8,
      "outputs": [
        {
          "output_type": "stream",
          "text": [
            "-------------------------------- 3b --------------------------------\n"
          ],
          "name": "stdout"
        },
        {
          "output_type": "execute_result",
          "data": {
            "text/html": [
              "<div>\n",
              "<style scoped>\n",
              "    .dataframe tbody tr th:only-of-type {\n",
              "        vertical-align: middle;\n",
              "    }\n",
              "\n",
              "    .dataframe tbody tr th {\n",
              "        vertical-align: top;\n",
              "    }\n",
              "\n",
              "    .dataframe thead th {\n",
              "        text-align: right;\n",
              "    }\n",
              "</style>\n",
              "<table border=\"1\" class=\"dataframe\">\n",
              "  <thead>\n",
              "    <tr style=\"text-align: right;\">\n",
              "      <th></th>\n",
              "      <th>attended</th>\n",
              "      <th>name</th>\n",
              "    </tr>\n",
              "  </thead>\n",
              "  <tbody>\n",
              "    <tr>\n",
              "      <th>0</th>\n",
              "      <td>Yes</td>\n",
              "      <td>Linnie Lietz</td>\n",
              "    </tr>\n",
              "    <tr>\n",
              "      <th>1</th>\n",
              "      <td>No</td>\n",
              "      <td>Mitch Mustain</td>\n",
              "    </tr>\n",
              "    <tr>\n",
              "      <th>2</th>\n",
              "      <td>No</td>\n",
              "      <td>Salina Chavera</td>\n",
              "    </tr>\n",
              "    <tr>\n",
              "      <th>3</th>\n",
              "      <td>Yes</td>\n",
              "      <td>Kimberely Conwell</td>\n",
              "    </tr>\n",
              "    <tr>\n",
              "      <th>4</th>\n",
              "      <td>No</td>\n",
              "      <td>Zack Burk</td>\n",
              "    </tr>\n",
              "    <tr>\n",
              "      <th>...</th>\n",
              "      <td>...</td>\n",
              "      <td>...</td>\n",
              "    </tr>\n",
              "    <tr>\n",
              "      <th>166</th>\n",
              "      <td>No</td>\n",
              "      <td>Dana Malta</td>\n",
              "    </tr>\n",
              "    <tr>\n",
              "      <th>167</th>\n",
              "      <td>No</td>\n",
              "      <td>Sixta Heyden</td>\n",
              "    </tr>\n",
              "    <tr>\n",
              "      <th>168</th>\n",
              "      <td>No</td>\n",
              "      <td>Brianne Broome</td>\n",
              "    </tr>\n",
              "    <tr>\n",
              "      <th>169</th>\n",
              "      <td>No</td>\n",
              "      <td>Elouise Weatherholt</td>\n",
              "    </tr>\n",
              "    <tr>\n",
              "      <th>170</th>\n",
              "      <td>No</td>\n",
              "      <td>Addie Maharaj</td>\n",
              "    </tr>\n",
              "  </tbody>\n",
              "</table>\n",
              "<p>171 rows × 2 columns</p>\n",
              "</div>"
            ],
            "text/plain": [
              "    attended                 name\n",
              "0        Yes         Linnie Lietz\n",
              "1         No        Mitch Mustain\n",
              "2         No       Salina Chavera\n",
              "3        Yes    Kimberely Conwell\n",
              "4         No            Zack Burk\n",
              "..       ...                  ...\n",
              "166       No           Dana Malta\n",
              "167       No         Sixta Heyden\n",
              "168       No       Brianne Broome\n",
              "169       No  Elouise Weatherholt\n",
              "170       No        Addie Maharaj\n",
              "\n",
              "[171 rows x 2 columns]"
            ]
          },
          "metadata": {
            "tags": []
          },
          "execution_count": 8
        }
      ]
    },
    {
      "cell_type": "markdown",
      "metadata": {
        "id": "raIu62H-JdXp"
      },
      "source": [
        "Now our class data displays whether students did or didn't attend class. Let's see if class attendance affected one's grades."
      ]
    },
    {
      "cell_type": "code",
      "metadata": {
        "colab": {
          "base_uri": "https://localhost:8080/",
          "height": 188
        },
        "id": "W_5EdalmLOzw",
        "outputId": "fd1a34d8-e831-4b7b-e099-32a168ecb747"
      },
      "source": [
        "# 3c. Calculate average “quiz_total” for those who attended class versus did not attend\n",
        "print('-------------------------------- 3c --------------------------------')\n",
        "data[['attended', 'quiz_total']].groupby(['attended']).agg(['mean', 'min', 'max', 'count'])"
      ],
      "execution_count": 9,
      "outputs": [
        {
          "output_type": "stream",
          "text": [
            "-------------------------------- 3c --------------------------------\n"
          ],
          "name": "stdout"
        },
        {
          "output_type": "execute_result",
          "data": {
            "text/html": [
              "<div>\n",
              "<style scoped>\n",
              "    .dataframe tbody tr th:only-of-type {\n",
              "        vertical-align: middle;\n",
              "    }\n",
              "\n",
              "    .dataframe tbody tr th {\n",
              "        vertical-align: top;\n",
              "    }\n",
              "\n",
              "    .dataframe thead tr th {\n",
              "        text-align: left;\n",
              "    }\n",
              "\n",
              "    .dataframe thead tr:last-of-type th {\n",
              "        text-align: right;\n",
              "    }\n",
              "</style>\n",
              "<table border=\"1\" class=\"dataframe\">\n",
              "  <thead>\n",
              "    <tr>\n",
              "      <th></th>\n",
              "      <th colspan=\"4\" halign=\"left\">quiz_total</th>\n",
              "    </tr>\n",
              "    <tr>\n",
              "      <th></th>\n",
              "      <th>mean</th>\n",
              "      <th>min</th>\n",
              "      <th>max</th>\n",
              "      <th>count</th>\n",
              "    </tr>\n",
              "    <tr>\n",
              "      <th>attended</th>\n",
              "      <th></th>\n",
              "      <th></th>\n",
              "      <th></th>\n",
              "      <th></th>\n",
              "    </tr>\n",
              "  </thead>\n",
              "  <tbody>\n",
              "    <tr>\n",
              "      <th>No</th>\n",
              "      <td>68.326087</td>\n",
              "      <td>0.0</td>\n",
              "      <td>79.5</td>\n",
              "      <td>138</td>\n",
              "    </tr>\n",
              "    <tr>\n",
              "      <th>Yes</th>\n",
              "      <td>72.500000</td>\n",
              "      <td>54.0</td>\n",
              "      <td>78.5</td>\n",
              "      <td>33</td>\n",
              "    </tr>\n",
              "  </tbody>\n",
              "</table>\n",
              "</div>"
            ],
            "text/plain": [
              "         quiz_total                  \n",
              "               mean   min   max count\n",
              "attended                             \n",
              "No        68.326087   0.0  79.5   138\n",
              "Yes       72.500000  54.0  78.5    33"
            ]
          },
          "metadata": {
            "tags": []
          },
          "execution_count": 9
        }
      ]
    },
    {
      "cell_type": "code",
      "metadata": {
        "colab": {
          "base_uri": "https://localhost:8080/",
          "height": 171
        },
        "id": "OwdNLiaqNJix",
        "outputId": "dd29a737-98db-48e4-86e0-30d4123a0b0e"
      },
      "source": [
        "# 3c. Calculate average “final_grade” for those who attended class versus did not attend\n",
        "data[['attended', 'final_grade']].groupby(['attended']).agg(['mean', 'min', 'max', 'count'])"
      ],
      "execution_count": 10,
      "outputs": [
        {
          "output_type": "execute_result",
          "data": {
            "text/html": [
              "<div>\n",
              "<style scoped>\n",
              "    .dataframe tbody tr th:only-of-type {\n",
              "        vertical-align: middle;\n",
              "    }\n",
              "\n",
              "    .dataframe tbody tr th {\n",
              "        vertical-align: top;\n",
              "    }\n",
              "\n",
              "    .dataframe thead tr th {\n",
              "        text-align: left;\n",
              "    }\n",
              "\n",
              "    .dataframe thead tr:last-of-type th {\n",
              "        text-align: right;\n",
              "    }\n",
              "</style>\n",
              "<table border=\"1\" class=\"dataframe\">\n",
              "  <thead>\n",
              "    <tr>\n",
              "      <th></th>\n",
              "      <th colspan=\"4\" halign=\"left\">final_grade</th>\n",
              "    </tr>\n",
              "    <tr>\n",
              "      <th></th>\n",
              "      <th>mean</th>\n",
              "      <th>min</th>\n",
              "      <th>max</th>\n",
              "      <th>count</th>\n",
              "    </tr>\n",
              "    <tr>\n",
              "      <th>attended</th>\n",
              "      <th></th>\n",
              "      <th></th>\n",
              "      <th></th>\n",
              "      <th></th>\n",
              "    </tr>\n",
              "  </thead>\n",
              "  <tbody>\n",
              "    <tr>\n",
              "      <th>No</th>\n",
              "      <td>91.086159</td>\n",
              "      <td>2.50</td>\n",
              "      <td>104.38</td>\n",
              "      <td>138</td>\n",
              "    </tr>\n",
              "    <tr>\n",
              "      <th>Yes</th>\n",
              "      <td>95.072121</td>\n",
              "      <td>85.47</td>\n",
              "      <td>101.25</td>\n",
              "      <td>33</td>\n",
              "    </tr>\n",
              "  </tbody>\n",
              "</table>\n",
              "</div>"
            ],
            "text/plain": [
              "         final_grade                     \n",
              "                mean    min     max count\n",
              "attended                                 \n",
              "No         91.086159   2.50  104.38   138\n",
              "Yes        95.072121  85.47  101.25    33"
            ]
          },
          "metadata": {
            "tags": []
          },
          "execution_count": 10
        }
      ]
    },
    {
      "cell_type": "code",
      "metadata": {
        "colab": {
          "base_uri": "https://localhost:8080/",
          "height": 171
        },
        "id": "faz2KImqNSUg",
        "outputId": "45d229a2-b5f6-4c8d-c8b9-55ab753e4a9e"
      },
      "source": [
        "# 3c. Calculate average “final_exam” for those who attended class versus did not attend\n",
        "data[['attended', 'final_exam']].groupby(['attended']).agg(['mean', 'min', 'max', 'count'])"
      ],
      "execution_count": 11,
      "outputs": [
        {
          "output_type": "execute_result",
          "data": {
            "text/html": [
              "<div>\n",
              "<style scoped>\n",
              "    .dataframe tbody tr th:only-of-type {\n",
              "        vertical-align: middle;\n",
              "    }\n",
              "\n",
              "    .dataframe tbody tr th {\n",
              "        vertical-align: top;\n",
              "    }\n",
              "\n",
              "    .dataframe thead tr th {\n",
              "        text-align: left;\n",
              "    }\n",
              "\n",
              "    .dataframe thead tr:last-of-type th {\n",
              "        text-align: right;\n",
              "    }\n",
              "</style>\n",
              "<table border=\"1\" class=\"dataframe\">\n",
              "  <thead>\n",
              "    <tr>\n",
              "      <th></th>\n",
              "      <th colspan=\"4\" halign=\"left\">final_exam</th>\n",
              "    </tr>\n",
              "    <tr>\n",
              "      <th></th>\n",
              "      <th>mean</th>\n",
              "      <th>min</th>\n",
              "      <th>max</th>\n",
              "      <th>count</th>\n",
              "    </tr>\n",
              "    <tr>\n",
              "      <th>attended</th>\n",
              "      <th></th>\n",
              "      <th></th>\n",
              "      <th></th>\n",
              "      <th></th>\n",
              "    </tr>\n",
              "  </thead>\n",
              "  <tbody>\n",
              "    <tr>\n",
              "      <th>No</th>\n",
              "      <td>39.442029</td>\n",
              "      <td>0</td>\n",
              "      <td>49</td>\n",
              "      <td>138</td>\n",
              "    </tr>\n",
              "    <tr>\n",
              "      <th>Yes</th>\n",
              "      <td>40.636364</td>\n",
              "      <td>33</td>\n",
              "      <td>47</td>\n",
              "      <td>33</td>\n",
              "    </tr>\n",
              "  </tbody>\n",
              "</table>\n",
              "</div>"
            ],
            "text/plain": [
              "         final_exam              \n",
              "               mean min max count\n",
              "attended                         \n",
              "No        39.442029   0  49   138\n",
              "Yes       40.636364  33  47    33"
            ]
          },
          "metadata": {
            "tags": []
          },
          "execution_count": 11
        }
      ]
    },
    {
      "cell_type": "markdown",
      "metadata": {
        "id": "oR_dQC6yNhJJ"
      },
      "source": [
        "Looking at these results, we can see that a majority of students did not attend class, with 138 not attending and only 33 actually attending the class.\n",
        "\n",
        "Summing up the results, it appears that on average:\n",
        "*   Students who attended class had higher total quiz scores (72.5 points) than those who did not attend class (68.3 points)\n",
        "*   Students who attended class had higher final grades (95.1%, A) than those who did not (91.1%, A-)\n",
        "*   Students who attended class did better on the final exam than (40.6 points) those who did not (39.4 points)\n",
        "\n",
        "Thus, we are able to deduce that class attendance does place some impact on one's grades. Although not too significant an amount, attending class does lead to receiving better grades in class."
      ]
    },
    {
      "cell_type": "markdown",
      "metadata": {
        "id": "Vc1gGHFSP-tf"
      },
      "source": [
        "## Based on the data you have, was anyone working together?"
      ]
    },
    {
      "cell_type": "code",
      "metadata": {
        "colab": {
          "base_uri": "https://localhost:8080/",
          "height": 96
        },
        "id": "S6xr34q2QMhZ",
        "outputId": "9697ecae-f17a-40b6-ca6f-7fd2d560377c"
      },
      "source": [
        "# EC. Find the duplicate occurences of scores in the class\n",
        "print('--------------------------- Extra Credit ---------------------------')\n",
        "same_scores = data[data.duplicated(['quiz_total', 'final_grade', 'final_exam'])]\n",
        "\n",
        "same_scores"
      ],
      "execution_count": 12,
      "outputs": [
        {
          "output_type": "stream",
          "text": [
            "--------------------------- Extra Credit ---------------------------\n"
          ],
          "name": "stdout"
        },
        {
          "output_type": "execute_result",
          "data": {
            "text/html": [
              "<div>\n",
              "<style scoped>\n",
              "    .dataframe tbody tr th:only-of-type {\n",
              "        vertical-align: middle;\n",
              "    }\n",
              "\n",
              "    .dataframe tbody tr th {\n",
              "        vertical-align: top;\n",
              "    }\n",
              "\n",
              "    .dataframe thead th {\n",
              "        text-align: right;\n",
              "    }\n",
              "</style>\n",
              "<table border=\"1\" class=\"dataframe\">\n",
              "  <thead>\n",
              "    <tr style=\"text-align: right;\">\n",
              "      <th></th>\n",
              "      <th>quiz_total</th>\n",
              "      <th>attended</th>\n",
              "      <th>final_grade</th>\n",
              "      <th>final_exam</th>\n",
              "      <th>name</th>\n",
              "    </tr>\n",
              "  </thead>\n",
              "  <tbody>\n",
              "    <tr>\n",
              "      <th>170</th>\n",
              "      <td>72.0</td>\n",
              "      <td>No</td>\n",
              "      <td>92.81</td>\n",
              "      <td>38</td>\n",
              "      <td>Addie Maharaj</td>\n",
              "    </tr>\n",
              "  </tbody>\n",
              "</table>\n",
              "</div>"
            ],
            "text/plain": [
              "     quiz_total attended  final_grade  final_exam           name\n",
              "170        72.0       No        92.81          38  Addie Maharaj"
            ]
          },
          "metadata": {
            "tags": []
          },
          "execution_count": 12
        }
      ]
    },
    {
      "cell_type": "markdown",
      "metadata": {
        "id": "H9fauC1YYWGe"
      },
      "source": [
        "It appears there is one occurrence in the data that suggests two students may have worked together based on their similarities in grades and scores. Both Addie Maharaj and Jaraham Eidda have the same exact total quiz and final exam scores as well as final grade. So it is possible these two students were working together during quizzes and exams."
      ]
    }
  ]
}
